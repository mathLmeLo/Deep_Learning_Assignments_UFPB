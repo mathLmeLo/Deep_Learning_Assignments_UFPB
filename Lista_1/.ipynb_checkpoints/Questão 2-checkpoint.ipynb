{
 "cells": [
  {
   "cell_type": "markdown",
   "metadata": {},
   "source": [
    "## Questão 2"
   ]
  },
  {
   "cell_type": "markdown",
   "metadata": {},
   "source": [
    "## a) a função lógica XOR"
   ]
  },
  {
   "cell_type": "markdown",
   "metadata": {},
   "source": [
    "### Preparação dos dados"
   ]
  },
  {
   "cell_type": "code",
   "execution_count": 48,
   "metadata": {},
   "outputs": [],
   "source": [
    "import numpy as np\n",
    "from random import uniform\n",
    "from sklearn.utils import shuffle\n",
    "from sklearn.model_selection import train_test_split"
   ]
  },
  {
   "cell_type": "code",
   "execution_count": 121,
   "metadata": {},
   "outputs": [],
   "source": [
    "xor_samples = [[0,0],[0,1],[1,0],[1,1]]\n",
    "xor_labels = [[1,0],[0,1],[0,1],[1,0]]"
   ]
  },
  {
   "cell_type": "markdown",
   "metadata": {},
   "source": [
    "<ul>\n",
    "    Onde: \n",
    "        <li>[1,0]  é igual a \"classe\" 0, portanto, resultado 0, e</li>\n",
    "        <li>[0,1]  é igual a \"classe\" 1, portanto, resultado 1.</li>\n",
    "</ul>"
   ]
  },
  {
   "cell_type": "code",
   "execution_count": 122,
   "metadata": {},
   "outputs": [],
   "source": [
    "#Transformar os dados em numpy arrays para inserir na fit function\n",
    "#Fazer o shuffle para evitar que a rede aprenda a ordem\n",
    "xor_samples = np.array(xor_samples)\n",
    "xor_labels = np.array(xor_labels)\n",
    "xor_labels, xor_samples = shuffle(xor_labels, xor_samples)"
   ]
  },
  {
   "cell_type": "markdown",
   "metadata": {},
   "source": [
    "### Modelo"
   ]
  },
  {
   "cell_type": "code",
   "execution_count": 123,
   "metadata": {},
   "outputs": [],
   "source": [
    "import tensorflow as tf\n",
    "from tensorflow import keras\n",
    "from tensorflow.keras.models import Sequential\n",
    "from tensorflow.keras.layers import Activation, Dense\n",
    "from tensorflow.keras.optimizers import Adam"
   ]
  },
  {
   "cell_type": "code",
   "execution_count": 129,
   "metadata": {},
   "outputs": [],
   "source": [
    "model_2 = Sequential([\n",
    "    Dense(units=3, input_shape=(2,), activation='relu'),\n",
    "    Dense(units=2, activation='softmax'),\n",
    "])"
   ]
  },
  {
   "cell_type": "code",
   "execution_count": 130,
   "metadata": {},
   "outputs": [
    {
     "name": "stdout",
     "output_type": "stream",
     "text": [
      "Model: \"sequential_16\"\n",
      "_________________________________________________________________\n",
      "Layer (type)                 Output Shape              Param #   \n",
      "=================================================================\n",
      "dense_52 (Dense)             (None, 3)                 9         \n",
      "_________________________________________________________________\n",
      "dense_53 (Dense)             (None, 2)                 8         \n",
      "=================================================================\n",
      "Total params: 17\n",
      "Trainable params: 17\n",
      "Non-trainable params: 0\n",
      "_________________________________________________________________\n"
     ]
    }
   ],
   "source": [
    "model_2.summary()"
   ]
  },
  {
   "cell_type": "code",
   "execution_count": 131,
   "metadata": {},
   "outputs": [],
   "source": [
    "model_2.compile(optimizer=Adam(learning_rate=0.01), loss='mean_squared_error', metrics=['accuracy'])"
   ]
  },
  {
   "cell_type": "code",
   "execution_count": 132,
   "metadata": {},
   "outputs": [
    {
     "name": "stdout",
     "output_type": "stream",
     "text": [
      "Epoch 1/100\n",
      "1/1 - 0s - loss: 0.2403 - accuracy: 0.7500\n",
      "Epoch 2/100\n",
      "1/1 - 0s - loss: 0.2389 - accuracy: 0.7500\n",
      "Epoch 3/100\n",
      "1/1 - 0s - loss: 0.2373 - accuracy: 0.7500\n",
      "Epoch 4/100\n",
      "1/1 - 0s - loss: 0.2357 - accuracy: 0.7500\n",
      "Epoch 5/100\n",
      "1/1 - 0s - loss: 0.2340 - accuracy: 0.7500\n",
      "Epoch 6/100\n",
      "1/1 - 0s - loss: 0.2323 - accuracy: 0.7500\n",
      "Epoch 7/100\n",
      "1/1 - 0s - loss: 0.2305 - accuracy: 0.7500\n",
      "Epoch 8/100\n",
      "1/1 - 0s - loss: 0.2286 - accuracy: 0.7500\n",
      "Epoch 9/100\n",
      "1/1 - 0s - loss: 0.2267 - accuracy: 0.7500\n",
      "Epoch 10/100\n",
      "1/1 - 0s - loss: 0.2247 - accuracy: 0.7500\n",
      "Epoch 11/100\n",
      "1/1 - 0s - loss: 0.2226 - accuracy: 0.7500\n",
      "Epoch 12/100\n",
      "1/1 - 0s - loss: 0.2205 - accuracy: 0.7500\n",
      "Epoch 13/100\n",
      "1/1 - 0s - loss: 0.2183 - accuracy: 0.7500\n",
      "Epoch 14/100\n",
      "1/1 - 0s - loss: 0.2161 - accuracy: 0.7500\n",
      "Epoch 15/100\n",
      "1/1 - 0s - loss: 0.2138 - accuracy: 0.7500\n",
      "Epoch 16/100\n",
      "1/1 - 0s - loss: 0.2115 - accuracy: 0.7500\n",
      "Epoch 17/100\n",
      "1/1 - 0s - loss: 0.2090 - accuracy: 0.7500\n",
      "Epoch 18/100\n",
      "1/1 - 0s - loss: 0.2065 - accuracy: 0.7500\n",
      "Epoch 19/100\n",
      "1/1 - 0s - loss: 0.2039 - accuracy: 0.7500\n",
      "Epoch 20/100\n",
      "1/1 - 0s - loss: 0.2011 - accuracy: 0.7500\n",
      "Epoch 21/100\n",
      "1/1 - 0s - loss: 0.1983 - accuracy: 0.7500\n",
      "Epoch 22/100\n",
      "1/1 - 0s - loss: 0.1954 - accuracy: 1.0000\n",
      "Epoch 23/100\n",
      "1/1 - 0s - loss: 0.1925 - accuracy: 1.0000\n",
      "Epoch 24/100\n",
      "1/1 - 0s - loss: 0.1897 - accuracy: 1.0000\n",
      "Epoch 25/100\n",
      "1/1 - 0s - loss: 0.1871 - accuracy: 1.0000\n",
      "Epoch 26/100\n",
      "1/1 - 0s - loss: 0.1844 - accuracy: 1.0000\n",
      "Epoch 27/100\n",
      "1/1 - 0s - loss: 0.1818 - accuracy: 1.0000\n",
      "Epoch 28/100\n",
      "1/1 - 0s - loss: 0.1789 - accuracy: 1.0000\n",
      "Epoch 29/100\n",
      "1/1 - 0s - loss: 0.1756 - accuracy: 1.0000\n",
      "Epoch 30/100\n",
      "1/1 - 0s - loss: 0.1724 - accuracy: 1.0000\n",
      "Epoch 31/100\n",
      "1/1 - 0s - loss: 0.1699 - accuracy: 1.0000\n",
      "Epoch 32/100\n",
      "1/1 - 0s - loss: 0.1671 - accuracy: 1.0000\n",
      "Epoch 33/100\n",
      "1/1 - 0s - loss: 0.1641 - accuracy: 1.0000\n",
      "Epoch 34/100\n",
      "1/1 - 0s - loss: 0.1613 - accuracy: 1.0000\n",
      "Epoch 35/100\n",
      "1/1 - 0s - loss: 0.1582 - accuracy: 1.0000\n",
      "Epoch 36/100\n",
      "1/1 - 0s - loss: 0.1550 - accuracy: 1.0000\n",
      "Epoch 37/100\n",
      "1/1 - 0s - loss: 0.1522 - accuracy: 1.0000\n",
      "Epoch 38/100\n",
      "1/1 - 0s - loss: 0.1494 - accuracy: 1.0000\n",
      "Epoch 39/100\n",
      "1/1 - 0s - loss: 0.1464 - accuracy: 1.0000\n",
      "Epoch 40/100\n",
      "1/1 - 0s - loss: 0.1431 - accuracy: 1.0000\n",
      "Epoch 41/100\n",
      "1/1 - 0s - loss: 0.1403 - accuracy: 1.0000\n",
      "Epoch 42/100\n",
      "1/1 - 0s - loss: 0.1374 - accuracy: 1.0000\n",
      "Epoch 43/100\n",
      "1/1 - 0s - loss: 0.1344 - accuracy: 1.0000\n",
      "Epoch 44/100\n",
      "1/1 - 0s - loss: 0.1314 - accuracy: 1.0000\n",
      "Epoch 45/100\n",
      "1/1 - 0s - loss: 0.1283 - accuracy: 1.0000\n",
      "Epoch 46/100\n",
      "1/1 - 0s - loss: 0.1255 - accuracy: 1.0000\n",
      "Epoch 47/100\n",
      "1/1 - 0s - loss: 0.1227 - accuracy: 1.0000\n",
      "Epoch 48/100\n",
      "1/1 - 0s - loss: 0.1197 - accuracy: 1.0000\n",
      "Epoch 49/100\n",
      "1/1 - 0s - loss: 0.1168 - accuracy: 1.0000\n",
      "Epoch 50/100\n",
      "1/1 - 0s - loss: 0.1141 - accuracy: 1.0000\n",
      "Epoch 51/100\n",
      "1/1 - 0s - loss: 0.1113 - accuracy: 1.0000\n",
      "Epoch 52/100\n",
      "1/1 - 0s - loss: 0.1086 - accuracy: 1.0000\n",
      "Epoch 53/100\n",
      "1/1 - 0s - loss: 0.1059 - accuracy: 1.0000\n",
      "Epoch 54/100\n",
      "1/1 - 0s - loss: 0.1031 - accuracy: 1.0000\n",
      "Epoch 55/100\n",
      "1/1 - 0s - loss: 0.1003 - accuracy: 1.0000\n",
      "Epoch 56/100\n",
      "1/1 - 0s - loss: 0.0975 - accuracy: 1.0000\n",
      "Epoch 57/100\n",
      "1/1 - 0s - loss: 0.0950 - accuracy: 1.0000\n",
      "Epoch 58/100\n",
      "1/1 - 0s - loss: 0.0924 - accuracy: 1.0000\n",
      "Epoch 59/100\n",
      "1/1 - 0s - loss: 0.0897 - accuracy: 1.0000\n",
      "Epoch 60/100\n",
      "1/1 - 0s - loss: 0.0872 - accuracy: 1.0000\n",
      "Epoch 61/100\n",
      "1/1 - 0s - loss: 0.0847 - accuracy: 1.0000\n",
      "Epoch 62/100\n",
      "1/1 - 0s - loss: 0.0822 - accuracy: 1.0000\n",
      "Epoch 63/100\n",
      "1/1 - 0s - loss: 0.0800 - accuracy: 1.0000\n",
      "Epoch 64/100\n",
      "1/1 - 0s - loss: 0.0775 - accuracy: 1.0000\n",
      "Epoch 65/100\n",
      "1/1 - 0s - loss: 0.0752 - accuracy: 1.0000\n",
      "Epoch 66/100\n",
      "1/1 - 0s - loss: 0.0730 - accuracy: 1.0000\n",
      "Epoch 67/100\n",
      "1/1 - 0s - loss: 0.0708 - accuracy: 1.0000\n",
      "Epoch 68/100\n",
      "1/1 - 0s - loss: 0.0687 - accuracy: 1.0000\n",
      "Epoch 69/100\n",
      "1/1 - 0s - loss: 0.0666 - accuracy: 1.0000\n",
      "Epoch 70/100\n",
      "1/1 - 0s - loss: 0.0645 - accuracy: 1.0000\n",
      "Epoch 71/100\n",
      "1/1 - 0s - loss: 0.0625 - accuracy: 1.0000\n",
      "Epoch 72/100\n",
      "1/1 - 0s - loss: 0.0606 - accuracy: 1.0000\n",
      "Epoch 73/100\n",
      "1/1 - 0s - loss: 0.0587 - accuracy: 1.0000\n",
      "Epoch 74/100\n",
      "1/1 - 0s - loss: 0.0569 - accuracy: 1.0000\n",
      "Epoch 75/100\n",
      "1/1 - 0s - loss: 0.0551 - accuracy: 1.0000\n",
      "Epoch 76/100\n",
      "1/1 - 0s - loss: 0.0534 - accuracy: 1.0000\n",
      "Epoch 77/100\n",
      "1/1 - 0s - loss: 0.0517 - accuracy: 1.0000\n",
      "Epoch 78/100\n",
      "1/1 - 0s - loss: 0.0500 - accuracy: 1.0000\n",
      "Epoch 79/100\n",
      "1/1 - 0s - loss: 0.0483 - accuracy: 1.0000\n",
      "Epoch 80/100\n",
      "1/1 - 0s - loss: 0.0468 - accuracy: 1.0000\n",
      "Epoch 81/100\n",
      "1/1 - 0s - loss: 0.0454 - accuracy: 1.0000\n",
      "Epoch 82/100\n",
      "1/1 - 0s - loss: 0.0438 - accuracy: 1.0000\n",
      "Epoch 83/100\n",
      "1/1 - 0s - loss: 0.0424 - accuracy: 1.0000\n",
      "Epoch 84/100\n",
      "1/1 - 0s - loss: 0.0411 - accuracy: 1.0000\n",
      "Epoch 85/100\n",
      "1/1 - 0s - loss: 0.0398 - accuracy: 1.0000\n",
      "Epoch 86/100\n",
      "1/1 - 0s - loss: 0.0385 - accuracy: 1.0000\n",
      "Epoch 87/100\n",
      "1/1 - 0s - loss: 0.0373 - accuracy: 1.0000\n",
      "Epoch 88/100\n",
      "1/1 - 0s - loss: 0.0362 - accuracy: 1.0000\n",
      "Epoch 89/100\n",
      "1/1 - 0s - loss: 0.0350 - accuracy: 1.0000\n",
      "Epoch 90/100\n",
      "1/1 - 0s - loss: 0.0339 - accuracy: 1.0000\n",
      "Epoch 91/100\n",
      "1/1 - 0s - loss: 0.0328 - accuracy: 1.0000\n",
      "Epoch 92/100\n",
      "1/1 - 0s - loss: 0.0318 - accuracy: 1.0000\n",
      "Epoch 93/100\n",
      "1/1 - 0s - loss: 0.0308 - accuracy: 1.0000\n",
      "Epoch 94/100\n",
      "1/1 - 0s - loss: 0.0299 - accuracy: 1.0000\n",
      "Epoch 95/100\n",
      "1/1 - 0s - loss: 0.0290 - accuracy: 1.0000\n",
      "Epoch 96/100\n",
      "1/1 - 0s - loss: 0.0281 - accuracy: 1.0000\n",
      "Epoch 97/100\n",
      "1/1 - 0s - loss: 0.0272 - accuracy: 1.0000\n",
      "Epoch 98/100\n",
      "1/1 - 0s - loss: 0.0265 - accuracy: 1.0000\n",
      "Epoch 99/100\n",
      "1/1 - 0s - loss: 0.0257 - accuracy: 1.0000\n",
      "Epoch 100/100\n",
      "1/1 - 0s - loss: 0.0249 - accuracy: 1.0000\n"
     ]
    },
    {
     "data": {
      "text/plain": [
       "<tensorflow.python.keras.callbacks.History at 0x7f3d5a3df9d0>"
      ]
     },
     "execution_count": 132,
     "metadata": {},
     "output_type": "execute_result"
    }
   ],
   "source": [
    "model_2.fit(x=xor_samples, y=xor_labels, epochs=100, shuffle=True, verbose=2)"
   ]
  },
  {
   "cell_type": "markdown",
   "metadata": {},
   "source": [
    "### Teste"
   ]
  },
  {
   "cell_type": "code",
   "execution_count": 136,
   "metadata": {},
   "outputs": [
    {
     "name": "stdout",
     "output_type": "stream",
     "text": [
      "Previstos\n",
      "1\n",
      "0\n",
      "0\n",
      "1\n",
      "Esperados\n",
      "[0 1]\n",
      "[1 0]\n",
      "[1 0]\n",
      "[0 1]\n"
     ]
    }
   ],
   "source": [
    "xor_test_labels, xor_test_samples = shuffle(xor_labels, xor_samples)\n",
    "\n",
    "predictions = model_2.predict(x=xor_test_samples, verbose=0)\n",
    "rounded_predictions = np.argmax(predictions, axis=-1)\n",
    "\n",
    "print('Previstos')\n",
    "for i in rounded_predictions:\n",
    "    print(i)\n",
    "print('Esperados')\n",
    "for i in xor_test_labels:\n",
    "    print(i)"
   ]
  },
  {
   "cell_type": "markdown",
   "metadata": {},
   "source": [
    "## b) f(x)   = sin(pi x)/(pi x)\n"
   ]
  },
  {
   "cell_type": "markdown",
   "metadata": {},
   "source": [
    "### Preparação dos dados"
   ]
  },
  {
   "cell_type": "code",
   "execution_count": 57,
   "metadata": {},
   "outputs": [],
   "source": [
    "sen_pix_samples = np.arange(0.001,4,0.001)\n",
    "sen_pix_labels = []\n",
    "\n",
    "for i in range(len(sen_pix_samples)):\n",
    "    pix = sen_pix_samples[i]*np.pi\n",
    "    sen_pix_labels.append([round((np.sin(pix))/pix, 3)])"
   ]
  },
  {
   "cell_type": "code",
   "execution_count": 58,
   "metadata": {},
   "outputs": [],
   "source": [
    "#Transformar os dados em numpy arrays para inserir na fit function\n",
    "#Separar conjunto de teste do de treinamento previamente fazendo \n",
    "#o shuffle para evitar que a rede aprenda a ordem\n",
    "\n",
    "sen_pix_labels = np.array(sen_pix_labels)\n",
    "sen_pix_samples = sen_pix_samples.reshape(-1,1)\n",
    "\n",
    "train_samples, test_samples, train_labels, test_labels = train_test_split(sen_pix_samples, sen_pix_labels, test_size=0.2, random_state=22)"
   ]
  },
  {
   "cell_type": "markdown",
   "metadata": {},
   "source": [
    "### Modelo"
   ]
  },
  {
   "cell_type": "code",
   "execution_count": 59,
   "metadata": {},
   "outputs": [],
   "source": [
    "model_3 = Sequential([\n",
    "    Dense(units=10, input_shape=(1,), activation='tanh'),\n",
    "    Dense(units=3, activation='tanh'),     \n",
    "    Dense(units=1, activation='linear'),\n",
    "])"
   ]
  },
  {
   "cell_type": "code",
   "execution_count": 60,
   "metadata": {},
   "outputs": [
    {
     "name": "stdout",
     "output_type": "stream",
     "text": [
      "Model: \"sequential_4\"\n",
      "_________________________________________________________________\n",
      "Layer (type)                 Output Shape              Param #   \n",
      "=================================================================\n",
      "dense_12 (Dense)             (None, 10)                20        \n",
      "_________________________________________________________________\n",
      "dense_13 (Dense)             (None, 3)                 33        \n",
      "_________________________________________________________________\n",
      "dense_14 (Dense)             (None, 1)                 4         \n",
      "=================================================================\n",
      "Total params: 57\n",
      "Trainable params: 57\n",
      "Non-trainable params: 0\n",
      "_________________________________________________________________\n"
     ]
    }
   ],
   "source": [
    "    model_3.summary()"
   ]
  },
  {
   "cell_type": "code",
   "execution_count": 61,
   "metadata": {},
   "outputs": [],
   "source": [
    "model_3.compile(optimizer=Adam(learning_rate=0.1), loss='mean_squared_error', metrics=['mean_absolute_error'])"
   ]
  },
  {
   "cell_type": "code",
   "execution_count": 62,
   "metadata": {
    "scrolled": true
   },
   "outputs": [
    {
     "name": "stdout",
     "output_type": "stream",
     "text": [
      "Epoch 1/100\n",
      "52/52 - 0s - loss: 0.0478 - mean_absolute_error: 0.1539 - val_loss: 0.0104 - val_mean_absolute_error: 0.0831\n",
      "Epoch 2/100\n",
      "52/52 - 0s - loss: 0.0100 - mean_absolute_error: 0.0782 - val_loss: 0.0090 - val_mean_absolute_error: 0.0758\n",
      "Epoch 3/100\n",
      "52/52 - 0s - loss: 0.0092 - mean_absolute_error: 0.0753 - val_loss: 0.0084 - val_mean_absolute_error: 0.0716\n",
      "Epoch 4/100\n",
      "52/52 - 0s - loss: 0.0094 - mean_absolute_error: 0.0755 - val_loss: 0.0104 - val_mean_absolute_error: 0.0819\n",
      "Epoch 5/100\n",
      "52/52 - 0s - loss: 0.0089 - mean_absolute_error: 0.0725 - val_loss: 0.0083 - val_mean_absolute_error: 0.0667\n",
      "Epoch 6/100\n",
      "52/52 - 0s - loss: 0.0092 - mean_absolute_error: 0.0728 - val_loss: 0.0080 - val_mean_absolute_error: 0.0668\n",
      "Epoch 7/100\n",
      "52/52 - 0s - loss: 0.0088 - mean_absolute_error: 0.0723 - val_loss: 0.0081 - val_mean_absolute_error: 0.0669\n",
      "Epoch 8/100\n",
      "52/52 - 0s - loss: 0.0087 - mean_absolute_error: 0.0712 - val_loss: 0.0083 - val_mean_absolute_error: 0.0664\n",
      "Epoch 9/100\n",
      "52/52 - 0s - loss: 0.0088 - mean_absolute_error: 0.0709 - val_loss: 0.0086 - val_mean_absolute_error: 0.0707\n",
      "Epoch 10/100\n",
      "52/52 - 0s - loss: 0.0085 - mean_absolute_error: 0.0711 - val_loss: 0.0079 - val_mean_absolute_error: 0.0670\n",
      "Epoch 11/100\n",
      "52/52 - 0s - loss: 0.0089 - mean_absolute_error: 0.0715 - val_loss: 0.0081 - val_mean_absolute_error: 0.0663\n",
      "Epoch 12/100\n",
      "52/52 - 0s - loss: 0.0086 - mean_absolute_error: 0.0704 - val_loss: 0.0080 - val_mean_absolute_error: 0.0675\n",
      "Epoch 13/100\n",
      "52/52 - 0s - loss: 0.0087 - mean_absolute_error: 0.0717 - val_loss: 0.0083 - val_mean_absolute_error: 0.0716\n",
      "Epoch 14/100\n",
      "52/52 - 0s - loss: 0.0088 - mean_absolute_error: 0.0728 - val_loss: 0.0083 - val_mean_absolute_error: 0.0696\n",
      "Epoch 15/100\n",
      "52/52 - 0s - loss: 0.0090 - mean_absolute_error: 0.0732 - val_loss: 0.0090 - val_mean_absolute_error: 0.0688\n",
      "Epoch 16/100\n",
      "52/52 - 0s - loss: 0.0094 - mean_absolute_error: 0.0750 - val_loss: 0.0078 - val_mean_absolute_error: 0.0669\n",
      "Epoch 17/100\n",
      "52/52 - 0s - loss: 0.0095 - mean_absolute_error: 0.0755 - val_loss: 0.0079 - val_mean_absolute_error: 0.0676\n",
      "Epoch 18/100\n",
      "52/52 - 0s - loss: 0.0087 - mean_absolute_error: 0.0712 - val_loss: 0.0094 - val_mean_absolute_error: 0.0741\n",
      "Epoch 19/100\n",
      "52/52 - 0s - loss: 0.0091 - mean_absolute_error: 0.0728 - val_loss: 0.0080 - val_mean_absolute_error: 0.0660\n",
      "Epoch 20/100\n",
      "52/52 - 0s - loss: 0.0108 - mean_absolute_error: 0.0812 - val_loss: 0.0078 - val_mean_absolute_error: 0.0664\n",
      "Epoch 21/100\n",
      "52/52 - 0s - loss: 0.0090 - mean_absolute_error: 0.0731 - val_loss: 0.0080 - val_mean_absolute_error: 0.0688\n",
      "Epoch 22/100\n",
      "52/52 - 0s - loss: 0.0095 - mean_absolute_error: 0.0756 - val_loss: 0.0085 - val_mean_absolute_error: 0.0753\n",
      "Epoch 23/100\n",
      "52/52 - 0s - loss: 0.0096 - mean_absolute_error: 0.0781 - val_loss: 0.0084 - val_mean_absolute_error: 0.0723\n",
      "Epoch 24/100\n",
      "52/52 - 0s - loss: 0.0084 - mean_absolute_error: 0.0707 - val_loss: 0.0078 - val_mean_absolute_error: 0.0660\n",
      "Epoch 25/100\n",
      "52/52 - 0s - loss: 0.0098 - mean_absolute_error: 0.0753 - val_loss: 0.0171 - val_mean_absolute_error: 0.1031\n",
      "Epoch 26/100\n",
      "52/52 - 0s - loss: 0.0084 - mean_absolute_error: 0.0741 - val_loss: 0.0064 - val_mean_absolute_error: 0.0697\n",
      "Epoch 27/100\n",
      "52/52 - 0s - loss: 0.0050 - mean_absolute_error: 0.0575 - val_loss: 0.0037 - val_mean_absolute_error: 0.0470\n",
      "Epoch 28/100\n",
      "52/52 - 0s - loss: 0.0047 - mean_absolute_error: 0.0561 - val_loss: 0.0039 - val_mean_absolute_error: 0.0467\n",
      "Epoch 29/100\n",
      "52/52 - 0s - loss: 0.0047 - mean_absolute_error: 0.0546 - val_loss: 0.0057 - val_mean_absolute_error: 0.0598\n",
      "Epoch 30/100\n",
      "52/52 - 0s - loss: 0.0039 - mean_absolute_error: 0.0477 - val_loss: 0.0034 - val_mean_absolute_error: 0.0417\n",
      "Epoch 31/100\n",
      "52/52 - 0s - loss: 0.0039 - mean_absolute_error: 0.0470 - val_loss: 0.0033 - val_mean_absolute_error: 0.0413\n",
      "Epoch 32/100\n",
      "52/52 - 0s - loss: 0.0040 - mean_absolute_error: 0.0498 - val_loss: 0.0052 - val_mean_absolute_error: 0.0659\n",
      "Epoch 33/100\n",
      "52/52 - 0s - loss: 0.0044 - mean_absolute_error: 0.0538 - val_loss: 0.0044 - val_mean_absolute_error: 0.0489\n",
      "Epoch 34/100\n",
      "52/52 - 0s - loss: 0.0037 - mean_absolute_error: 0.0468 - val_loss: 0.0040 - val_mean_absolute_error: 0.0502\n",
      "Epoch 35/100\n",
      "52/52 - 0s - loss: 0.0039 - mean_absolute_error: 0.0476 - val_loss: 0.0035 - val_mean_absolute_error: 0.0448\n",
      "Epoch 36/100\n",
      "52/52 - 0s - loss: 0.0042 - mean_absolute_error: 0.0508 - val_loss: 0.0051 - val_mean_absolute_error: 0.0575\n",
      "Epoch 37/100\n",
      "52/52 - 0s - loss: 0.0039 - mean_absolute_error: 0.0492 - val_loss: 0.0034 - val_mean_absolute_error: 0.0457\n",
      "Epoch 38/100\n",
      "52/52 - 0s - loss: 0.0038 - mean_absolute_error: 0.0490 - val_loss: 0.0063 - val_mean_absolute_error: 0.0686\n",
      "Epoch 39/100\n",
      "52/52 - 0s - loss: 0.0040 - mean_absolute_error: 0.0489 - val_loss: 0.0034 - val_mean_absolute_error: 0.0443\n",
      "Epoch 40/100\n",
      "52/52 - 0s - loss: 0.0035 - mean_absolute_error: 0.0446 - val_loss: 0.0044 - val_mean_absolute_error: 0.0588\n",
      "Epoch 41/100\n",
      "52/52 - 0s - loss: 0.0038 - mean_absolute_error: 0.0476 - val_loss: 0.0057 - val_mean_absolute_error: 0.0616\n",
      "Epoch 42/100\n",
      "52/52 - 0s - loss: 0.0046 - mean_absolute_error: 0.0541 - val_loss: 0.0041 - val_mean_absolute_error: 0.0476\n",
      "Epoch 43/100\n",
      "52/52 - 0s - loss: 0.0037 - mean_absolute_error: 0.0472 - val_loss: 0.0052 - val_mean_absolute_error: 0.0519\n",
      "Epoch 44/100\n",
      "52/52 - 0s - loss: 0.0039 - mean_absolute_error: 0.0483 - val_loss: 0.0045 - val_mean_absolute_error: 0.0547\n",
      "Epoch 45/100\n",
      "52/52 - 0s - loss: 0.0036 - mean_absolute_error: 0.0459 - val_loss: 0.0040 - val_mean_absolute_error: 0.0495\n",
      "Epoch 46/100\n",
      "52/52 - 0s - loss: 0.0038 - mean_absolute_error: 0.0483 - val_loss: 0.0040 - val_mean_absolute_error: 0.0482\n",
      "Epoch 47/100\n",
      "52/52 - 0s - loss: 0.0036 - mean_absolute_error: 0.0468 - val_loss: 0.0034 - val_mean_absolute_error: 0.0410\n",
      "Epoch 48/100\n",
      "52/52 - 0s - loss: 0.0036 - mean_absolute_error: 0.0455 - val_loss: 0.0034 - val_mean_absolute_error: 0.0455\n",
      "Epoch 49/100\n",
      "52/52 - 0s - loss: 0.0034 - mean_absolute_error: 0.0423 - val_loss: 0.0036 - val_mean_absolute_error: 0.0445\n",
      "Epoch 50/100\n",
      "52/52 - 0s - loss: 0.0042 - mean_absolute_error: 0.0481 - val_loss: 0.0046 - val_mean_absolute_error: 0.0491\n",
      "Epoch 51/100\n",
      "52/52 - 0s - loss: 0.0039 - mean_absolute_error: 0.0483 - val_loss: 0.0040 - val_mean_absolute_error: 0.0464\n",
      "Epoch 52/100\n",
      "52/52 - 0s - loss: 0.0042 - mean_absolute_error: 0.0497 - val_loss: 0.0036 - val_mean_absolute_error: 0.0498\n",
      "Epoch 53/100\n",
      "52/52 - 0s - loss: 0.0043 - mean_absolute_error: 0.0525 - val_loss: 0.0032 - val_mean_absolute_error: 0.0418\n",
      "Epoch 54/100\n",
      "52/52 - 0s - loss: 0.0050 - mean_absolute_error: 0.0533 - val_loss: 0.0063 - val_mean_absolute_error: 0.0607\n",
      "Epoch 55/100\n",
      "52/52 - 0s - loss: 0.0041 - mean_absolute_error: 0.0475 - val_loss: 0.0049 - val_mean_absolute_error: 0.0456\n",
      "Epoch 56/100\n",
      "52/52 - 0s - loss: 0.0044 - mean_absolute_error: 0.0503 - val_loss: 0.0081 - val_mean_absolute_error: 0.0726\n",
      "Epoch 57/100\n",
      "52/52 - 0s - loss: 0.0049 - mean_absolute_error: 0.0533 - val_loss: 0.0037 - val_mean_absolute_error: 0.0484\n",
      "Epoch 58/100\n",
      "52/52 - 0s - loss: 0.0039 - mean_absolute_error: 0.0501 - val_loss: 0.0033 - val_mean_absolute_error: 0.0436\n",
      "Epoch 59/100\n",
      "52/52 - 0s - loss: 0.0038 - mean_absolute_error: 0.0476 - val_loss: 0.0038 - val_mean_absolute_error: 0.0476\n",
      "Epoch 60/100\n",
      "52/52 - 0s - loss: 0.0040 - mean_absolute_error: 0.0474 - val_loss: 0.0034 - val_mean_absolute_error: 0.0446\n",
      "Epoch 61/100\n",
      "52/52 - 0s - loss: 0.0035 - mean_absolute_error: 0.0451 - val_loss: 0.0034 - val_mean_absolute_error: 0.0444\n",
      "Epoch 62/100\n",
      "52/52 - 0s - loss: 0.0038 - mean_absolute_error: 0.0469 - val_loss: 0.0035 - val_mean_absolute_error: 0.0430\n",
      "Epoch 63/100\n",
      "52/52 - 0s - loss: 0.0039 - mean_absolute_error: 0.0495 - val_loss: 0.0036 - val_mean_absolute_error: 0.0504\n",
      "Epoch 64/100\n",
      "52/52 - 0s - loss: 0.0036 - mean_absolute_error: 0.0456 - val_loss: 0.0042 - val_mean_absolute_error: 0.0488\n",
      "Epoch 65/100\n",
      "52/52 - 0s - loss: 0.0036 - mean_absolute_error: 0.0453 - val_loss: 0.0031 - val_mean_absolute_error: 0.0429\n",
      "Epoch 66/100\n",
      "52/52 - 0s - loss: 0.0052 - mean_absolute_error: 0.0561 - val_loss: 0.0064 - val_mean_absolute_error: 0.0618\n",
      "Epoch 67/100\n",
      "52/52 - 0s - loss: 0.0053 - mean_absolute_error: 0.0553 - val_loss: 0.0056 - val_mean_absolute_error: 0.0503\n",
      "Epoch 68/100\n",
      "52/52 - 0s - loss: 0.0050 - mean_absolute_error: 0.0547 - val_loss: 0.0041 - val_mean_absolute_error: 0.0531\n"
     ]
    },
    {
     "name": "stdout",
     "output_type": "stream",
     "text": [
      "Epoch 69/100\n",
      "52/52 - 0s - loss: 0.0038 - mean_absolute_error: 0.0462 - val_loss: 0.0049 - val_mean_absolute_error: 0.0597\n",
      "Epoch 70/100\n",
      "52/52 - 0s - loss: 0.0035 - mean_absolute_error: 0.0447 - val_loss: 0.0047 - val_mean_absolute_error: 0.0492\n",
      "Epoch 71/100\n",
      "52/52 - 0s - loss: 0.0037 - mean_absolute_error: 0.0476 - val_loss: 0.0035 - val_mean_absolute_error: 0.0477\n",
      "Epoch 72/100\n",
      "52/52 - 0s - loss: 0.0043 - mean_absolute_error: 0.0504 - val_loss: 0.0094 - val_mean_absolute_error: 0.0867\n",
      "Epoch 73/100\n",
      "52/52 - 0s - loss: 0.0058 - mean_absolute_error: 0.0607 - val_loss: 0.0041 - val_mean_absolute_error: 0.0505\n",
      "Epoch 74/100\n",
      "52/52 - 0s - loss: 0.0041 - mean_absolute_error: 0.0504 - val_loss: 0.0039 - val_mean_absolute_error: 0.0479\n",
      "Epoch 75/100\n",
      "52/52 - 0s - loss: 0.0038 - mean_absolute_error: 0.0472 - val_loss: 0.0034 - val_mean_absolute_error: 0.0445\n",
      "Epoch 76/100\n",
      "52/52 - 0s - loss: 0.0053 - mean_absolute_error: 0.0559 - val_loss: 0.0150 - val_mean_absolute_error: 0.0947\n",
      "Epoch 77/100\n",
      "52/52 - 0s - loss: 0.0056 - mean_absolute_error: 0.0565 - val_loss: 0.0050 - val_mean_absolute_error: 0.0507\n",
      "Epoch 78/100\n",
      "52/52 - 0s - loss: 0.0041 - mean_absolute_error: 0.0486 - val_loss: 0.0060 - val_mean_absolute_error: 0.0642\n",
      "Epoch 79/100\n",
      "52/52 - 0s - loss: 0.0042 - mean_absolute_error: 0.0491 - val_loss: 0.0034 - val_mean_absolute_error: 0.0427\n",
      "Epoch 80/100\n",
      "52/52 - 0s - loss: 0.0036 - mean_absolute_error: 0.0459 - val_loss: 0.0050 - val_mean_absolute_error: 0.0576\n",
      "Epoch 81/100\n",
      "52/52 - 0s - loss: 0.0038 - mean_absolute_error: 0.0452 - val_loss: 0.0042 - val_mean_absolute_error: 0.0544\n",
      "Epoch 82/100\n",
      "52/52 - 0s - loss: 0.0040 - mean_absolute_error: 0.0482 - val_loss: 0.0043 - val_mean_absolute_error: 0.0497\n",
      "Epoch 83/100\n",
      "52/52 - 0s - loss: 0.0047 - mean_absolute_error: 0.0520 - val_loss: 0.0043 - val_mean_absolute_error: 0.0461\n",
      "Epoch 84/100\n",
      "52/52 - 0s - loss: 0.0043 - mean_absolute_error: 0.0507 - val_loss: 0.0036 - val_mean_absolute_error: 0.0495\n",
      "Epoch 85/100\n",
      "52/52 - 0s - loss: 0.0040 - mean_absolute_error: 0.0477 - val_loss: 0.0038 - val_mean_absolute_error: 0.0449\n",
      "Epoch 86/100\n",
      "52/52 - 0s - loss: 0.0043 - mean_absolute_error: 0.0490 - val_loss: 0.0049 - val_mean_absolute_error: 0.0519\n",
      "Epoch 87/100\n",
      "52/52 - 0s - loss: 0.0040 - mean_absolute_error: 0.0472 - val_loss: 0.0038 - val_mean_absolute_error: 0.0508\n",
      "Epoch 88/100\n",
      "52/52 - 0s - loss: 0.0037 - mean_absolute_error: 0.0464 - val_loss: 0.0043 - val_mean_absolute_error: 0.0453\n",
      "Epoch 89/100\n",
      "52/52 - 0s - loss: 0.0041 - mean_absolute_error: 0.0487 - val_loss: 0.0040 - val_mean_absolute_error: 0.0543\n",
      "Epoch 90/100\n",
      "52/52 - 0s - loss: 0.0044 - mean_absolute_error: 0.0505 - val_loss: 0.0048 - val_mean_absolute_error: 0.0503\n",
      "Epoch 91/100\n",
      "52/52 - 0s - loss: 0.0048 - mean_absolute_error: 0.0547 - val_loss: 0.0045 - val_mean_absolute_error: 0.0513\n",
      "Epoch 92/100\n",
      "52/52 - 0s - loss: 0.0041 - mean_absolute_error: 0.0495 - val_loss: 0.0043 - val_mean_absolute_error: 0.0529\n",
      "Epoch 93/100\n",
      "52/52 - 0s - loss: 0.0035 - mean_absolute_error: 0.0437 - val_loss: 0.0032 - val_mean_absolute_error: 0.0425\n",
      "Epoch 94/100\n",
      "52/52 - 0s - loss: 0.0036 - mean_absolute_error: 0.0451 - val_loss: 0.0039 - val_mean_absolute_error: 0.0518\n",
      "Epoch 95/100\n",
      "52/52 - 0s - loss: 0.0037 - mean_absolute_error: 0.0465 - val_loss: 0.0044 - val_mean_absolute_error: 0.0475\n",
      "Epoch 96/100\n",
      "52/52 - 0s - loss: 0.0036 - mean_absolute_error: 0.0457 - val_loss: 0.0037 - val_mean_absolute_error: 0.0450\n",
      "Epoch 97/100\n",
      "52/52 - 0s - loss: 0.0036 - mean_absolute_error: 0.0444 - val_loss: 0.0036 - val_mean_absolute_error: 0.0481\n",
      "Epoch 98/100\n",
      "52/52 - 0s - loss: 0.0039 - mean_absolute_error: 0.0478 - val_loss: 0.0034 - val_mean_absolute_error: 0.0419\n",
      "Epoch 99/100\n",
      "52/52 - 0s - loss: 0.0036 - mean_absolute_error: 0.0453 - val_loss: 0.0041 - val_mean_absolute_error: 0.0495\n",
      "Epoch 100/100\n",
      "52/52 - 0s - loss: 0.0035 - mean_absolute_error: 0.0455 - val_loss: 0.0042 - val_mean_absolute_error: 0.0499\n"
     ]
    }
   ],
   "source": [
    "result = model_3.fit(x=train_samples, y=train_labels, validation_split=0.2, batch_size=50, epochs=100, shuffle=True, verbose=2)"
   ]
  },
  {
   "cell_type": "markdown",
   "metadata": {},
   "source": [
    "### Gráfico do erro ao longo das épocas"
   ]
  },
  {
   "cell_type": "code",
   "execution_count": 134,
   "metadata": {
    "scrolled": true
   },
   "outputs": [
    {
     "data": {
      "text/plain": [
       "<matplotlib.legend.Legend at 0x7f3d5a29b0a0>"
      ]
     },
     "execution_count": 134,
     "metadata": {},
     "output_type": "execute_result"
    },
    {
     "data": {
      "image/png": "[encoded data removed]",
      "text/plain": [
       "<Figure size 432x288 with 1 Axes>"
      ]
     },
     "metadata": {
      "needs_background": "light"
     },
     "output_type": "display_data"
    }
   ],
   "source": [
    "from matplotlib import pyplot as plt\n",
    "\n",
    "plt.plot(result.history['loss'], label='loss')\n",
    "plt.plot(result.history['val_loss'], label='val_loss')\n",
    "plt.legend()"
   ]
  },
  {
   "cell_type": "markdown",
   "metadata": {},
   "source": [
    "### Teste"
   ]
  },
  {
   "cell_type": "code",
   "execution_count": 64,
   "metadata": {},
   "outputs": [],
   "source": [
    "predictions2 = model_3.predict(x=test_samples, batch_size=50, verbose=0)"
   ]
  },
  {
   "cell_type": "code",
   "execution_count": 65,
   "metadata": {},
   "outputs": [
    {
     "data": {
      "text/plain": [
       "<matplotlib.legend.Legend at 0x7f3dc4085730>"
      ]
     },
     "execution_count": 65,
     "metadata": {},
     "output_type": "execute_result"
    },
    {
     "data": {
      "image/png": "[encoded data removed]",
      "text/plain": [
       "<Figure size 432x288 with 1 Axes>"
      ]
     },
     "metadata": {
      "needs_background": "light"
     },
     "output_type": "display_data"
    }
   ],
   "source": [
    "plt.plot(predictions2[:100], label='results')\n",
    "plt.plot(test_labels[:100], label='exact curve')\n",
    "plt.legend()"
   ]
  }
 ],
 "metadata": {
  "kernelspec": {
   "display_name": "Python 3",
   "language": "python",
   "name": "python3"
  },
  "language_info": {
   "codemirror_mode": {
    "name": "ipython",
    "version": 3
   },
   "file_extension": ".py",
   "mimetype": "text/x-python",
   "name": "python",
   "nbconvert_exporter": "python",
   "pygments_lexer": "ipython3",
   "version": "3.8.3"
  }
 },
 "nbformat": 4,
 "nbformat_minor": 4
}
