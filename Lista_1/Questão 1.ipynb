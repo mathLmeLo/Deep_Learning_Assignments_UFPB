{
 "cells": [
  {
   "cell_type": "markdown",
   "metadata": {},
   "source": [
    "# Resolução Primeira Lista de Exercícios\n",
    "<ul>\n",
    "    <li>Universidade Federal da Paraíba</li>\n",
    "    <li>Tópicos Especiais em Computação Deep Learning</li>\n",
    "    <li>Professor: Tiago Maritan</li>\n",
    "    <li>Aluno: Matheus de Araújo Correia Lima Melo</li>\n",
    "</ul>"
   ]
  },
  {
   "cell_type": "markdown",
   "metadata": {},
   "source": [
    "## Questão 1"
   ]
  },
  {
   "cell_type": "markdown",
   "metadata": {},
   "source": [
    "### Preparação dos dados"
   ]
  },
  {
   "cell_type": "code",
   "execution_count": 118,
   "metadata": {},
   "outputs": [],
   "source": [
    "import numpy as np\n",
    "from random import uniform\n",
    "from sklearn.utils import shuffle\n",
    "from sklearn.preprocessing import MinMaxScaler"
   ]
  },
  {
   "cell_type": "code",
   "execution_count": 119,
   "metadata": {},
   "outputs": [],
   "source": [
    "train_labels = []\n",
    "train_samples = []"
   ]
  },
  {
   "cell_type": "markdown",
   "metadata": {},
   "source": [
    "\"O problema pode ser formulado como um classificador de 8 padrões diferentes, sendo que cada padrão representa um vértice do cubo.\"\n",
    "##### Sendo\n",
    "<ul>\n",
    "    <li>Padrão 1: x={0,0,0} com  vetor resposta d={ 1, 0, 0, 0, 0, 0, 0, 0}</li>\n",
    "    <li>Padrão 2: x={0,0,1} com  vetor resposta d={ 0, 1, 0, 0, 0, 0, 0, 0}</li>\n",
    "    <li>Padrão 3: x={0,1,0} com  vetor resposta d={ 0, 0, 1, 0, 0, 0, 0, 0}</li>\n",
    "    <li>Padrão 4: x={0,1,1} com  vetor resposta d={ 0, 0, 0, 1, 0, 0, 0, 0}</li>\n",
    "    <li>Padrão 5: x={1,0,0} com  vetor resposta d={ 0, 0, 0, 0, 1, 0, 0, 0}</li>\n",
    "    <li>Padrão 6: x={1,0,1} com  vetor resposta d={ 0, 0, 0, 0, 0, 1, 0, 0}</li>\n",
    "    <li>Padrão 7: x={1,1,0} com  vetor resposta d={ 0, 0, 0, 0, 0, 0, 1, 0}</li>\n",
    "    <li>Padrão 8: x={1,1,1} com  vetor resposta d={ 0, 0, 0, 0, 0, 0, 0, 1}</li>    \n",
    "</ul>\n",
    "Devem ser considerados ruídos com raio de no máx 0.1, de forma que, se presentes, ainda sejam classificados corretamente.\n",
    "Para tanto constrói-se a seguir um conjunto de 4000 exemplos de dados rótulados(500 para cada rótulo) para o problema:"
   ]
  },
  {
   "cell_type": "code",
   "execution_count": 120,
   "metadata": {},
   "outputs": [],
   "source": [
    "vector_1 = [1, 0, 0, 0, 0, 0, 0, 0]\n",
    "vector_2 = [0, 1, 0, 0, 0, 0, 0, 0]\n",
    "vector_3 = [0, 0, 1, 0, 0, 0, 0, 0]\n",
    "vector_4 = [0, 0, 0, 1, 0, 0, 0, 0]\n",
    "vector_5 = [0, 0, 0, 0, 1, 0, 0, 0]\n",
    "vector_6 = [0, 0, 0, 0, 0, 1, 0, 0]\n",
    "vector_7 = [0, 0, 0, 0, 0, 0, 1, 0]\n",
    "vector_8 = [0, 0, 0, 0, 0, 0, 0, 1]"
   ]
  },
  {
   "cell_type": "code",
   "execution_count": 121,
   "metadata": {},
   "outputs": [],
   "source": [
    "for i in range(10):\n",
    "    #Padrão 1 x= 0,0,0 -> Vetor Resposta 1\n",
    "    random_1 = [0 + uniform(-1,1)*0.1, 0 + uniform(-1,1)*0.1, 0 + uniform(-1,1)*0.1]\n",
    "    train_samples.append(random_1)\n",
    "    train_labels.append(vector_1)\n",
    "    \n",
    "    #Padrão 2 x= 0,0,1 -> Vetor Resposta 2\n",
    "    random_2 = [0 + uniform(-1,1)*0.1, 0 + uniform(-1,1)*0.1, 1 + uniform(-1,1)*0.1]\n",
    "    train_samples.append(random_2)\n",
    "    train_labels.append(vector_2)\n",
    "    \n",
    "    #Padrão 3 x= 0,1,0 -> Vetor Resposta 3\n",
    "    random_3 = [0 + uniform(-1,1)*0.1, 1 + uniform(-1,1)*0.1, 0 + uniform(-1,1)*0.1]\n",
    "    train_samples.append(random_3)\n",
    "    train_labels.append(vector_3)\n",
    "    \n",
    "    #Padrão 4 x= 0,1,1 -> Vetor Resposta 4\n",
    "    random_4 = [0 + uniform(-1,1)*0.1, 1 + uniform(-1,1)*0.1, 1 + uniform(-1,1)*0.1]\n",
    "    train_samples.append(random_4)\n",
    "    train_labels.append(vector_4)\n",
    "    \n",
    "    #Padrão 5 x= 1,0,0 -> Vetor Resposta 5\n",
    "    random_5 = [1 + uniform(-1,1)*0.1, 0 + uniform(-1,1)*0.1, 0 + uniform(-1,1)*0.1]\n",
    "    train_samples.append(random_5)\n",
    "    train_labels.append(vector_5)\n",
    "    \n",
    "    #Padrão 6 x= 1,0,1 -> Vetor Resposta 6\n",
    "    random_6 = [1 + uniform(-1,1)*0.1, 0 + uniform(-1,1)*0.1, 1 + uniform(-1,1)*0.1]\n",
    "    train_samples.append(random_6)\n",
    "    train_labels.append(vector_6)\n",
    "    \n",
    "    #Padrão 7 x= 1,1,0 -> Vetor Resposta 7\n",
    "    random_7 = [1 + uniform(-1,1)*0.1, 1 + uniform(-1,1)*0.1, 0 + uniform(-1,1)*0.1]\n",
    "    train_samples.append(random_7)\n",
    "    train_labels.append(vector_7)\n",
    "    \n",
    "    #Padrão 8 x= 1,1,1 -> Vetor Resposta 8\n",
    "    random_8 = [1 + uniform(-1,1)*0.1, 1 + uniform(-1,1)*0.1, 1 + uniform(-1,1)*0.1]\n",
    "    train_samples.append(random_8)\n",
    "    train_labels.append(vector_8)    "
   ]
  },
  {
   "cell_type": "code",
   "execution_count": 122,
   "metadata": {},
   "outputs": [],
   "source": [
    "#Transformar os dados em numpy arrays para inserir na fit function\n",
    "#Fazer o shuffle para evitar que a rede aprenda a ordem\n",
    "train_labels = np.array(train_labels)\n",
    "train_samples = np.array(train_samples)\n",
    "train_labels, train_samples = shuffle(train_labels, train_samples)"
   ]
  },
  {
   "cell_type": "markdown",
   "metadata": {},
   "source": [
    "### Modelo"
   ]
  },
  {
   "cell_type": "code",
   "execution_count": 123,
   "metadata": {},
   "outputs": [],
   "source": [
    "import tensorflow as tf\n",
    "from tensorflow import keras\n",
    "from tensorflow.keras.models import Sequential\n",
    "from tensorflow.keras.layers import Activation, Dense\n",
    "from tensorflow.keras.activations import hard_sigmoid\n",
    "from tensorflow.keras.optimizers import Adam\n",
    "from tensorflow.keras.metrics import categorical_crossentropy"
   ]
  },
  {
   "cell_type": "code",
   "execution_count": 124,
   "metadata": {},
   "outputs": [],
   "source": [
    "model = Sequential([\n",
    "    Dense(units=8, input_shape=(3,), activation=hard_sigmoid)\n",
    "])"
   ]
  },
  {
   "cell_type": "code",
   "execution_count": 125,
   "metadata": {},
   "outputs": [
    {
     "name": "stdout",
     "output_type": "stream",
     "text": [
      "Model: \"sequential_9\"\n",
      "_________________________________________________________________\n",
      "Layer (type)                 Output Shape              Param #   \n",
      "=================================================================\n",
      "dense_21 (Dense)             (None, 8)                 32        \n",
      "=================================================================\n",
      "Total params: 32\n",
      "Trainable params: 32\n",
      "Non-trainable params: 0\n",
      "_________________________________________________________________\n"
     ]
    }
   ],
   "source": [
    "model.summary()"
   ]
  },
  {
   "cell_type": "code",
   "execution_count": 126,
   "metadata": {},
   "outputs": [],
   "source": [
    "model.compile(optimizer=Adam(learning_rate=0.01), loss=categorical_crossentropy, metrics=['accuracy'])"
   ]
  },
  {
   "cell_type": "code",
   "execution_count": 127,
   "metadata": {},
   "outputs": [
    {
     "name": "stdout",
     "output_type": "stream",
     "text": [
      "Epoch 1/28\n",
      "7/7 - 0s - loss: 2.0619 - accuracy: 0.1719 - val_loss: 2.0647 - val_accuracy: 0.0625\n",
      "Epoch 2/28\n",
      "7/7 - 0s - loss: 2.0301 - accuracy: 0.1719 - val_loss: 2.0344 - val_accuracy: 0.0625\n",
      "Epoch 3/28\n",
      "7/7 - 0s - loss: 2.0011 - accuracy: 0.1406 - val_loss: 2.0054 - val_accuracy: 0.0625\n",
      "Epoch 4/28\n",
      "7/7 - 0s - loss: 1.9727 - accuracy: 0.1562 - val_loss: 1.9773 - val_accuracy: 0.1875\n",
      "Epoch 5/28\n",
      "7/7 - 0s - loss: 1.9439 - accuracy: 0.2031 - val_loss: 1.9517 - val_accuracy: 0.1875\n",
      "Epoch 6/28\n",
      "7/7 - 0s - loss: 1.9146 - accuracy: 0.2969 - val_loss: 1.9232 - val_accuracy: 0.1875\n",
      "Epoch 7/28\n",
      "7/7 - 0s - loss: 1.8853 - accuracy: 0.3281 - val_loss: 1.8940 - val_accuracy: 0.1875\n",
      "Epoch 8/28\n",
      "7/7 - 0s - loss: 1.8567 - accuracy: 0.3438 - val_loss: 1.8674 - val_accuracy: 0.1875\n",
      "Epoch 9/28\n",
      "7/7 - 0s - loss: 1.8249 - accuracy: 0.3594 - val_loss: 1.8387 - val_accuracy: 0.2500\n",
      "Epoch 10/28\n",
      "7/7 - 0s - loss: 1.7952 - accuracy: 0.4062 - val_loss: 1.8110 - val_accuracy: 0.2500\n",
      "Epoch 11/28\n",
      "7/7 - 0s - loss: 1.7647 - accuracy: 0.4531 - val_loss: 1.7821 - val_accuracy: 0.3750\n",
      "Epoch 12/28\n",
      "7/7 - 0s - loss: 1.7347 - accuracy: 0.5156 - val_loss: 1.7507 - val_accuracy: 0.3750\n",
      "Epoch 13/28\n",
      "7/7 - 0s - loss: 1.7024 - accuracy: 0.5156 - val_loss: 1.7178 - val_accuracy: 0.3750\n",
      "Epoch 14/28\n",
      "7/7 - 0s - loss: 1.6692 - accuracy: 0.5156 - val_loss: 1.6865 - val_accuracy: 0.3750\n",
      "Epoch 15/28\n",
      "7/7 - 0s - loss: 1.6343 - accuracy: 0.5312 - val_loss: 1.6507 - val_accuracy: 0.3750\n",
      "Epoch 16/28\n",
      "7/7 - 0s - loss: 1.5969 - accuracy: 0.5312 - val_loss: 1.6104 - val_accuracy: 0.3750\n",
      "Epoch 17/28\n",
      "7/7 - 0s - loss: 1.5600 - accuracy: 0.5312 - val_loss: 1.5691 - val_accuracy: 0.3750\n",
      "Epoch 18/28\n",
      "7/7 - 0s - loss: 1.5194 - accuracy: 0.5312 - val_loss: 1.5263 - val_accuracy: 0.3750\n",
      "Epoch 19/28\n",
      "7/7 - 0s - loss: 1.4781 - accuracy: 0.5469 - val_loss: 1.4870 - val_accuracy: 0.4375\n",
      "Epoch 20/28\n",
      "7/7 - 0s - loss: 1.4385 - accuracy: 0.5625 - val_loss: 1.4507 - val_accuracy: 0.6250\n",
      "Epoch 21/28\n",
      "7/7 - 0s - loss: 1.3970 - accuracy: 0.5938 - val_loss: 1.4124 - val_accuracy: 0.6250\n",
      "Epoch 22/28\n",
      "7/7 - 0s - loss: 1.3516 - accuracy: 0.6250 - val_loss: 1.3701 - val_accuracy: 0.6250\n",
      "Epoch 23/28\n",
      "7/7 - 0s - loss: 1.3030 - accuracy: 0.7500 - val_loss: 1.3228 - val_accuracy: 0.6875\n",
      "Epoch 24/28\n",
      "7/7 - 0s - loss: 1.2502 - accuracy: 0.8125 - val_loss: 1.2751 - val_accuracy: 0.6875\n",
      "Epoch 25/28\n",
      "7/7 - 0s - loss: 1.1990 - accuracy: 0.8438 - val_loss: 1.2144 - val_accuracy: 0.6875\n",
      "Epoch 26/28\n",
      "7/7 - 0s - loss: 1.1428 - accuracy: 0.8438 - val_loss: 1.1348 - val_accuracy: 0.6875\n",
      "Epoch 27/28\n",
      "7/7 - 0s - loss: 1.0732 - accuracy: 0.8594 - val_loss: 1.0287 - val_accuracy: 0.8125\n",
      "Epoch 28/28\n",
      "7/7 - 0s - loss: 0.9854 - accuracy: 0.9219 - val_loss: 0.8668 - val_accuracy: 0.8750\n"
     ]
    },
    {
     "data": {
      "text/plain": [
       "<tensorflow.python.keras.callbacks.History at 0x7f6e305bee20>"
      ]
     },
     "execution_count": 127,
     "metadata": {},
     "output_type": "execute_result"
    }
   ],
   "source": [
    "model.fit(x=train_samples, y=train_labels, validation_split=0.2, batch_size=10, epochs=28, shuffle=True, verbose=2)"
   ]
  },
  {
   "cell_type": "markdown",
   "metadata": {},
   "source": [
    "## Questão 2"
   ]
  },
  {
   "cell_type": "markdown",
   "metadata": {},
   "source": [
    "## a)"
   ]
  },
  {
   "cell_type": "markdown",
   "metadata": {},
   "source": [
    "### Preparação dos dados"
   ]
  },
  {
   "cell_type": "code",
   "execution_count": 128,
   "metadata": {},
   "outputs": [],
   "source": [
    "xor_samples = [[0,0],[0,1],[1,0],[1,1]]\n",
    "xor_labels = [[0],[1],[1],[0]]"
   ]
  },
  {
   "cell_type": "code",
   "execution_count": 129,
   "metadata": {},
   "outputs": [],
   "source": [
    "#Transformar os dados em numpy arrays para inserir na fit function\n",
    "#Fazer o shuffle para evitar que a rede aprenda a ordem\n",
    "xor_samples = np.array(xor_samples)\n",
    "xor_labels = np.array(xor_labels)\n",
    "xor_labels, xor_samples = shuffle(xor_labels, xor_samples)"
   ]
  },
  {
   "cell_type": "markdown",
   "metadata": {},
   "source": [
    "### Modelo"
   ]
  },
  {
   "cell_type": "code",
   "execution_count": 130,
   "metadata": {},
   "outputs": [],
   "source": [
    "model_2 = Sequential([\n",
    "    Dense(units=4, input_shape=(2,), activation='relu'),\n",
    "    Dense(units=3, activation='tanh'),    \n",
    "    Dense(units=1, activation='sigmoid'),\n",
    "])"
   ]
  },
  {
   "cell_type": "code",
   "execution_count": 131,
   "metadata": {},
   "outputs": [
    {
     "name": "stdout",
     "output_type": "stream",
     "text": [
      "Model: \"sequential_10\"\n",
      "_________________________________________________________________\n",
      "Layer (type)                 Output Shape              Param #   \n",
      "=================================================================\n",
      "dense_22 (Dense)             (None, 4)                 12        \n",
      "_________________________________________________________________\n",
      "dense_23 (Dense)             (None, 3)                 15        \n",
      "_________________________________________________________________\n",
      "dense_24 (Dense)             (None, 1)                 4         \n",
      "=================================================================\n",
      "Total params: 31\n",
      "Trainable params: 31\n",
      "Non-trainable params: 0\n",
      "_________________________________________________________________\n"
     ]
    }
   ],
   "source": [
    "model_2.summary()"
   ]
  },
  {
   "cell_type": "code",
   "execution_count": 132,
   "metadata": {},
   "outputs": [],
   "source": [
    "model_2.compile(optimizer=Adam(learning_rate=0.1), loss='binary_crossentropy', metrics=['accuracy'])"
   ]
  },
  {
   "cell_type": "code",
   "execution_count": 133,
   "metadata": {},
   "outputs": [
    {
     "name": "stdout",
     "output_type": "stream",
     "text": [
      "Epoch 1/100\n",
      "1/1 - 0s - loss: 0.7252 - accuracy: 0.7500\n",
      "Epoch 2/100\n",
      "1/1 - 0s - loss: 0.6797 - accuracy: 0.7500\n",
      "Epoch 3/100\n",
      "1/1 - 0s - loss: 0.6594 - accuracy: 0.7500\n",
      "Epoch 4/100\n",
      "1/1 - 0s - loss: 0.6444 - accuracy: 0.7500\n",
      "Epoch 5/100\n",
      "1/1 - 0s - loss: 0.6262 - accuracy: 1.0000\n",
      "Epoch 6/100\n",
      "1/1 - 0s - loss: 0.6018 - accuracy: 0.7500\n",
      "Epoch 7/100\n",
      "1/1 - 0s - loss: 0.5698 - accuracy: 0.7500\n",
      "Epoch 8/100\n",
      "1/1 - 0s - loss: 0.5277 - accuracy: 0.7500\n",
      "Epoch 9/100\n",
      "1/1 - 0s - loss: 0.4857 - accuracy: 1.0000\n",
      "Epoch 10/100\n",
      "1/1 - 0s - loss: 0.4387 - accuracy: 1.0000\n",
      "Epoch 11/100\n",
      "1/1 - 0s - loss: 0.3877 - accuracy: 1.0000\n",
      "Epoch 12/100\n",
      "1/1 - 0s - loss: 0.3436 - accuracy: 1.0000\n",
      "Epoch 13/100\n",
      "1/1 - 0s - loss: 0.2981 - accuracy: 1.0000\n",
      "Epoch 14/100\n",
      "1/1 - 0s - loss: 0.2530 - accuracy: 1.0000\n",
      "Epoch 15/100\n",
      "1/1 - 0s - loss: 0.2102 - accuracy: 1.0000\n",
      "Epoch 16/100\n",
      "1/1 - 0s - loss: 0.1733 - accuracy: 1.0000\n",
      "Epoch 17/100\n",
      "1/1 - 0s - loss: 0.1424 - accuracy: 1.0000\n",
      "Epoch 18/100\n",
      "1/1 - 0s - loss: 0.1159 - accuracy: 1.0000\n",
      "Epoch 19/100\n",
      "1/1 - 0s - loss: 0.0935 - accuracy: 1.0000\n",
      "Epoch 20/100\n",
      "1/1 - 0s - loss: 0.0753 - accuracy: 1.0000\n",
      "Epoch 21/100\n",
      "1/1 - 0s - loss: 0.0599 - accuracy: 1.0000\n",
      "Epoch 22/100\n",
      "1/1 - 0s - loss: 0.0479 - accuracy: 1.0000\n",
      "Epoch 23/100\n",
      "1/1 - 0s - loss: 0.0381 - accuracy: 1.0000\n",
      "Epoch 24/100\n",
      "1/1 - 0s - loss: 0.0302 - accuracy: 1.0000\n",
      "Epoch 25/100\n",
      "1/1 - 0s - loss: 0.0238 - accuracy: 1.0000\n",
      "Epoch 26/100\n",
      "1/1 - 0s - loss: 0.0190 - accuracy: 1.0000\n",
      "Epoch 27/100\n",
      "1/1 - 0s - loss: 0.0154 - accuracy: 1.0000\n",
      "Epoch 28/100\n",
      "1/1 - 0s - loss: 0.0127 - accuracy: 1.0000\n",
      "Epoch 29/100\n",
      "1/1 - 0s - loss: 0.0105 - accuracy: 1.0000\n",
      "Epoch 30/100\n",
      "1/1 - 0s - loss: 0.0089 - accuracy: 1.0000\n",
      "Epoch 31/100\n",
      "1/1 - 0s - loss: 0.0076 - accuracy: 1.0000\n",
      "Epoch 32/100\n",
      "1/1 - 0s - loss: 0.0066 - accuracy: 1.0000\n",
      "Epoch 33/100\n",
      "1/1 - 0s - loss: 0.0057 - accuracy: 1.0000\n",
      "Epoch 34/100\n",
      "1/1 - 0s - loss: 0.0050 - accuracy: 1.0000\n",
      "Epoch 35/100\n",
      "1/1 - 0s - loss: 0.0045 - accuracy: 1.0000\n",
      "Epoch 36/100\n",
      "1/1 - 0s - loss: 0.0040 - accuracy: 1.0000\n",
      "Epoch 37/100\n",
      "1/1 - 0s - loss: 0.0036 - accuracy: 1.0000\n",
      "Epoch 38/100\n",
      "1/1 - 0s - loss: 0.0033 - accuracy: 1.0000\n",
      "Epoch 39/100\n",
      "1/1 - 0s - loss: 0.0030 - accuracy: 1.0000\n",
      "Epoch 40/100\n",
      "1/1 - 0s - loss: 0.0028 - accuracy: 1.0000\n",
      "Epoch 41/100\n",
      "1/1 - 0s - loss: 0.0026 - accuracy: 1.0000\n",
      "Epoch 42/100\n",
      "1/1 - 0s - loss: 0.0024 - accuracy: 1.0000\n",
      "Epoch 43/100\n",
      "1/1 - 0s - loss: 0.0022 - accuracy: 1.0000\n",
      "Epoch 44/100\n",
      "1/1 - 0s - loss: 0.0021 - accuracy: 1.0000\n",
      "Epoch 45/100\n",
      "1/1 - 0s - loss: 0.0020 - accuracy: 1.0000\n",
      "Epoch 46/100\n",
      "1/1 - 0s - loss: 0.0019 - accuracy: 1.0000\n",
      "Epoch 47/100\n",
      "1/1 - 0s - loss: 0.0018 - accuracy: 1.0000\n",
      "Epoch 48/100\n",
      "1/1 - 0s - loss: 0.0017 - accuracy: 1.0000\n",
      "Epoch 49/100\n",
      "1/1 - 0s - loss: 0.0017 - accuracy: 1.0000\n",
      "Epoch 50/100\n",
      "1/1 - 0s - loss: 0.0016 - accuracy: 1.0000\n",
      "Epoch 51/100\n",
      "1/1 - 0s - loss: 0.0015 - accuracy: 1.0000\n",
      "Epoch 52/100\n",
      "1/1 - 0s - loss: 0.0015 - accuracy: 1.0000\n",
      "Epoch 53/100\n",
      "1/1 - 0s - loss: 0.0014 - accuracy: 1.0000\n",
      "Epoch 54/100\n",
      "1/1 - 0s - loss: 0.0014 - accuracy: 1.0000\n",
      "Epoch 55/100\n",
      "1/1 - 0s - loss: 0.0013 - accuracy: 1.0000\n",
      "Epoch 56/100\n",
      "1/1 - 0s - loss: 0.0013 - accuracy: 1.0000\n",
      "Epoch 57/100\n",
      "1/1 - 0s - loss: 0.0013 - accuracy: 1.0000\n",
      "Epoch 58/100\n",
      "1/1 - 0s - loss: 0.0012 - accuracy: 1.0000\n",
      "Epoch 59/100\n",
      "1/1 - 0s - loss: 0.0012 - accuracy: 1.0000\n",
      "Epoch 60/100\n",
      "1/1 - 0s - loss: 0.0012 - accuracy: 1.0000\n",
      "Epoch 61/100\n",
      "1/1 - 0s - loss: 0.0012 - accuracy: 1.0000\n",
      "Epoch 62/100\n",
      "1/1 - 0s - loss: 0.0011 - accuracy: 1.0000\n",
      "Epoch 63/100\n",
      "1/1 - 0s - loss: 0.0011 - accuracy: 1.0000\n",
      "Epoch 64/100\n",
      "1/1 - 0s - loss: 0.0011 - accuracy: 1.0000\n",
      "Epoch 65/100\n",
      "1/1 - 0s - loss: 0.0011 - accuracy: 1.0000\n",
      "Epoch 66/100\n",
      "1/1 - 0s - loss: 0.0011 - accuracy: 1.0000\n",
      "Epoch 67/100\n",
      "1/1 - 0s - loss: 0.0010 - accuracy: 1.0000\n",
      "Epoch 68/100\n",
      "1/1 - 0s - loss: 0.0010 - accuracy: 1.0000\n",
      "Epoch 69/100\n",
      "1/1 - 0s - loss: 0.0010 - accuracy: 1.0000\n",
      "Epoch 70/100\n",
      "1/1 - 0s - loss: 0.0010 - accuracy: 1.0000\n",
      "Epoch 71/100\n",
      "1/1 - 0s - loss: 9.9163e-04 - accuracy: 1.0000\n",
      "Epoch 72/100\n",
      "1/1 - 0s - loss: 9.7916e-04 - accuracy: 1.0000\n",
      "Epoch 73/100\n",
      "1/1 - 0s - loss: 9.6717e-04 - accuracy: 1.0000\n",
      "Epoch 74/100\n",
      "1/1 - 0s - loss: 9.5562e-04 - accuracy: 1.0000\n",
      "Epoch 75/100\n",
      "1/1 - 0s - loss: 9.4446e-04 - accuracy: 1.0000\n",
      "Epoch 76/100\n",
      "1/1 - 0s - loss: 9.3367e-04 - accuracy: 1.0000\n",
      "Epoch 77/100\n",
      "1/1 - 0s - loss: 9.2322e-04 - accuracy: 1.0000\n",
      "Epoch 78/100\n",
      "1/1 - 0s - loss: 9.1309e-04 - accuracy: 1.0000\n",
      "Epoch 79/100\n",
      "1/1 - 0s - loss: 9.0344e-04 - accuracy: 1.0000\n",
      "Epoch 80/100\n",
      "1/1 - 0s - loss: 8.9415e-04 - accuracy: 1.0000\n",
      "Epoch 81/100\n",
      "1/1 - 0s - loss: 8.8511e-04 - accuracy: 1.0000\n",
      "Epoch 82/100\n",
      "1/1 - 0s - loss: 8.7630e-04 - accuracy: 1.0000\n",
      "Epoch 83/100\n",
      "1/1 - 0s - loss: 8.6784e-04 - accuracy: 1.0000\n",
      "Epoch 84/100\n",
      "1/1 - 0s - loss: 8.5967e-04 - accuracy: 1.0000\n",
      "Epoch 85/100\n",
      "1/1 - 0s - loss: 8.5167e-04 - accuracy: 1.0000\n",
      "Epoch 86/100\n",
      "1/1 - 0s - loss: 8.4381e-04 - accuracy: 1.0000\n",
      "Epoch 87/100\n",
      "1/1 - 0s - loss: 8.3611e-04 - accuracy: 1.0000\n",
      "Epoch 88/100\n",
      "1/1 - 0s - loss: 8.2854e-04 - accuracy: 1.0000\n",
      "Epoch 89/100\n",
      "1/1 - 0s - loss: 8.2112e-04 - accuracy: 1.0000\n",
      "Epoch 90/100\n",
      "1/1 - 0s - loss: 8.1390e-04 - accuracy: 1.0000\n",
      "Epoch 91/100\n",
      "1/1 - 0s - loss: 8.0675e-04 - accuracy: 1.0000\n",
      "Epoch 92/100\n",
      "1/1 - 0s - loss: 7.9973e-04 - accuracy: 1.0000\n",
      "Epoch 93/100\n",
      "1/1 - 0s - loss: 7.9303e-04 - accuracy: 1.0000\n",
      "Epoch 94/100\n",
      "1/1 - 0s - loss: 7.8640e-04 - accuracy: 1.0000\n",
      "Epoch 95/100\n",
      "1/1 - 0s - loss: 7.7994e-04 - accuracy: 1.0000\n",
      "Epoch 96/100\n",
      "1/1 - 0s - loss: 7.7356e-04 - accuracy: 1.0000\n",
      "Epoch 97/100\n",
      "1/1 - 0s - loss: 7.6725e-04 - accuracy: 1.0000\n",
      "Epoch 98/100\n",
      "1/1 - 0s - loss: 7.6101e-04 - accuracy: 1.0000\n",
      "Epoch 99/100\n",
      "1/1 - 0s - loss: 7.5484e-04 - accuracy: 1.0000\n",
      "Epoch 100/100\n",
      "1/1 - 0s - loss: 7.4883e-04 - accuracy: 1.0000\n"
     ]
    },
    {
     "data": {
      "text/plain": [
       "<tensorflow.python.keras.callbacks.History at 0x7f6e304f4550>"
      ]
     },
     "execution_count": 133,
     "metadata": {},
     "output_type": "execute_result"
    }
   ],
   "source": [
    "model_2.fit(x=xor_samples, y=xor_labels, batch_size=4, epochs=100, shuffle=True, verbose=2)"
   ]
  },
  {
   "cell_type": "code",
   "execution_count": 134,
   "metadata": {
    "scrolled": true
   },
   "outputs": [
    {
     "name": "stdout",
     "output_type": "stream",
     "text": [
      "Previsão para x =  [0 1]\n",
      "Previsão para x =  [1 0]\n",
      "Previsão para x =  [1 1]\n",
      "Previsão para x =  [0 0]\n",
      "\n",
      "Predito x Esperado \n",
      "\n",
      "[[9.9936867e-01]\n",
      " [9.9933720e-01]\n",
      " [1.5522242e-03]\n",
      " [1.2347102e-04]]\n",
      "\n",
      "\n",
      "[[1]\n",
      " [1]\n",
      " [0]\n",
      " [0]]\n"
     ]
    }
   ],
   "source": [
    "for i in range(xor_samples.shape[0]):\n",
    "    print(\"Previsão para x = \",xor_samples[i])\n",
    "print('\\nPredito x Esperado \\n')\n",
    "print(model_2.predict(xor_samples))\n",
    "print('\\n')\n",
    "print(xor_labels)"
   ]
  },
  {
   "cell_type": "markdown",
   "metadata": {},
   "source": [
    "## b)"
   ]
  },
  {
   "cell_type": "markdown",
   "metadata": {},
   "source": [
    "### Preparação dos dados"
   ]
  },
  {
   "cell_type": "code",
   "execution_count": 172,
   "metadata": {},
   "outputs": [],
   "source": [
    "sen_pix_samples = np.arange(0.001,4,0.001)\n",
    "sen_pix_labels = []\n",
    "\n",
    "for i in range(sen_pix_samples.shape[0]):\n",
    "    pix = sen_pix_samples[i]*np.pi\n",
    "    sen_pix_labels.append([round((np.sin(pix))/pix, 3)])"
   ]
  },
  {
   "cell_type": "code",
   "execution_count": 174,
   "metadata": {},
   "outputs": [
    {
     "name": "stdout",
     "output_type": "stream",
     "text": [
      "[[1.839]\n",
      " [1.252]\n",
      " [2.717]\n",
      " ...\n",
      " [2.045]\n",
      " [1.599]\n",
      " [2.05 ]]\n"
     ]
    }
   ],
   "source": [
    "#Transformar os dados em numpy arrays para inserir na fit function\n",
    "#Fazer o shuffle para evitar que a rede aprenda a ordem\n",
    "sen_pix_labels = np.array(sen_pix_labels)\n",
    "sen_pix_samples = sen_pix_samples.reshape(-1,1)\n",
    "sen_pix_labels, sen_pix_samples  = shuffle(sen_pix_labels, sen_pix_samples )"
   ]
  },
  {
   "cell_type": "markdown",
   "metadata": {},
   "source": [
    "### Modelo"
   ]
  },
  {
   "cell_type": "code",
   "execution_count": 166,
   "metadata": {},
   "outputs": [],
   "source": [
    "model_3 = Sequential([\n",
    "    Dense(units=16, input_shape=(1,), activation='sigmoid'),\n",
    "    Dense(units=8, activation='sigmoid'),  \n",
    "    Dense(units=8, activation='sigmoid'),    \n",
    "    Dense(units=1, activation='tanh'),\n",
    "])"
   ]
  },
  {
   "cell_type": "code",
   "execution_count": 155,
   "metadata": {},
   "outputs": [
    {
     "name": "stdout",
     "output_type": "stream",
     "text": [
      "Model: \"sequential_14\"\n",
      "_________________________________________________________________\n",
      "Layer (type)                 Output Shape              Param #   \n",
      "=================================================================\n",
      "dense_35 (Dense)             (None, 16)                32        \n",
      "_________________________________________________________________\n",
      "dense_36 (Dense)             (None, 8)                 136       \n",
      "_________________________________________________________________\n",
      "dense_37 (Dense)             (None, 8)                 72        \n",
      "_________________________________________________________________\n",
      "dense_38 (Dense)             (None, 1)                 9         \n",
      "=================================================================\n",
      "Total params: 249\n",
      "Trainable params: 249\n",
      "Non-trainable params: 0\n",
      "_________________________________________________________________\n"
     ]
    }
   ],
   "source": [
    "    model_3.summary()"
   ]
  },
  {
   "cell_type": "code",
   "execution_count": 167,
   "metadata": {},
   "outputs": [],
   "source": [
    "model_3.compile(optimizer=Adam(learning_rate=0.1), loss='mean_squared_error', metrics=['accuracy'])"
   ]
  },
  {
   "cell_type": "code",
   "execution_count": 170,
   "metadata": {},
   "outputs": [
    {
     "name": "stdout",
     "output_type": "stream",
     "text": [
      "Epoch 1/10\n",
      "9/9 - 0s - loss: 5.1297e-04 - accuracy: 0.9991 - val_loss: 3.1957e-04 - val_accuracy: 1.0000\n",
      "Epoch 2/10\n",
      "9/9 - 0s - loss: 2.0837e-04 - accuracy: 0.9997 - val_loss: 7.7965e-04 - val_accuracy: 0.9987\n",
      "Epoch 3/10\n",
      "9/9 - 0s - loss: 3.1301e-04 - accuracy: 0.9994 - val_loss: 2.6899e-04 - val_accuracy: 1.0000\n",
      "Epoch 4/10\n",
      "9/9 - 0s - loss: 1.7782e-04 - accuracy: 1.0000 - val_loss: 4.5496e-04 - val_accuracy: 0.9987\n",
      "Epoch 5/10\n",
      "9/9 - 0s - loss: 2.0313e-04 - accuracy: 1.0000 - val_loss: 2.6385e-04 - val_accuracy: 1.0000\n",
      "Epoch 6/10\n",
      "9/9 - 0s - loss: 2.0461e-04 - accuracy: 0.9997 - val_loss: 3.0483e-04 - val_accuracy: 1.0000\n",
      "Epoch 7/10\n",
      "9/9 - 0s - loss: 1.6947e-04 - accuracy: 1.0000 - val_loss: 4.4511e-04 - val_accuracy: 0.9987\n",
      "Epoch 8/10\n",
      "9/9 - 0s - loss: 2.5269e-04 - accuracy: 0.9997 - val_loss: 2.7628e-04 - val_accuracy: 1.0000\n",
      "Epoch 9/10\n",
      "9/9 - 0s - loss: 2.1688e-04 - accuracy: 0.9997 - val_loss: 3.9643e-04 - val_accuracy: 0.9987\n",
      "Epoch 10/10\n",
      "9/9 - 0s - loss: 3.3987e-04 - accuracy: 0.9994 - val_loss: 2.9747e-04 - val_accuracy: 1.0000\n"
     ]
    },
    {
     "data": {
      "text/plain": [
       "<tensorflow.python.keras.callbacks.History at 0x7f6e0c465c70>"
      ]
     },
     "execution_count": 170,
     "metadata": {},
     "output_type": "execute_result"
    }
   ],
   "source": [
    "model_3.fit(x=sen_pix_samples, y=sen_pix_labels, validation_split=0.2, batch_size=399, epochs=10, shuffle=True, verbose=2)"
   ]
  }
 ],
 "metadata": {
  "kernelspec": {
   "display_name": "Python 3",
   "language": "python",
   "name": "python3"
  },
  "language_info": {
   "codemirror_mode": {
    "name": "ipython",
    "version": 3
   },
   "file_extension": ".py",
   "mimetype": "text/x-python",
   "name": "python",
   "nbconvert_exporter": "python",
   "pygments_lexer": "ipython3",
   "version": "3.8.3"
  }
 },
 "nbformat": 4,
 "nbformat_minor": 4
}
