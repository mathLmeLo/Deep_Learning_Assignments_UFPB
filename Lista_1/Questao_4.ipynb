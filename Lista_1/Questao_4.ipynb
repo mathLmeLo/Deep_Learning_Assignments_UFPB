{
 "cells": [
  {
   "cell_type": "markdown",
   "metadata": {},
   "source": [
    "## Questão 4"
   ]
  },
  {
   "cell_type": "markdown",
   "metadata": {},
   "source": [
    "### Preparação dos dados"
   ]
  },
  {
   "cell_type": "code",
   "execution_count": 1,
   "metadata": {},
   "outputs": [],
   "source": [
    "import numpy as np\n",
    "from random import uniform\n",
    "from sklearn.utils import shuffle\n",
    "from sklearn.model_selection import train_test_split"
   ]
  },
  {
   "cell_type": "code",
   "execution_count": 2,
   "metadata": {},
   "outputs": [],
   "source": [
    "def time_series(n):\n",
    "    return np.sin(n+np.sin(n)**2)"
   ]
  },
  {
   "cell_type": "code",
   "execution_count": 3,
   "metadata": {},
   "outputs": [],
   "source": [
    "samples = []\n",
    "labels = []\n",
    "\n",
    "input_range=10\n",
    "delta=0.3\n",
    "# para n amostras de valores entre n-8 até n\n",
    "# variando 0.3 entre cada valor\n",
    "for n in range(0,40):\n",
    "    inputArray=[]\n",
    "    outputArray=[]\n",
    "    for x in np.arange(n-input_range,n,delta):\n",
    "        inputArray.append(time_series(x))\n",
    "    samples.append(inputArray)\n",
    "    for y in np.arange(n,n+3,delta):\n",
    "        outputArray.append(time_series(y))\n",
    "    labels.append(outputArray)"
   ]
  },
  {
   "cell_type": "code",
   "execution_count": 4,
   "metadata": {},
   "outputs": [],
   "source": [
    "samples = np.array(samples)\n",
    "labels = np.array(labels)"
   ]
  },
  {
   "cell_type": "code",
   "execution_count": 5,
   "metadata": {},
   "outputs": [
    {
     "name": "stdout",
     "output_type": "stream",
     "text": [
      "(32, 34)\n",
      "(32, 10)\n"
     ]
    }
   ],
   "source": [
    "train_samples, test_samples, train_labels, test_labels = train_test_split(samples, labels, test_size=0.2, random_state=33)\n",
    "print(train_samples.shape)\n",
    "print(train_labels.shape)"
   ]
  },
  {
   "cell_type": "markdown",
   "metadata": {},
   "source": [
    "## Modelo"
   ]
  },
  {
   "cell_type": "code",
   "execution_count": 6,
   "metadata": {},
   "outputs": [],
   "source": [
    "import tensorflow as tf\n",
    "from tensorflow import keras\n",
    "from tensorflow.keras.models import Sequential\n",
    "from tensorflow.keras.layers import Activation, Dense\n",
    "from tensorflow.keras.optimizers import Adam"
   ]
  },
  {
   "cell_type": "code",
   "execution_count": 7,
   "metadata": {},
   "outputs": [],
   "source": [
    "model = Sequential([\n",
    "    Dense(units=5, input_shape=(34,), activation='relu'),   \n",
    "    Dense(units=10, activation='linear'),\n",
    "])"
   ]
  },
  {
   "cell_type": "code",
   "execution_count": 8,
   "metadata": {
    "scrolled": true
   },
   "outputs": [
    {
     "name": "stdout",
     "output_type": "stream",
     "text": [
      "Model: \"sequential\"\n",
      "_________________________________________________________________\n",
      "Layer (type)                 Output Shape              Param #   \n",
      "=================================================================\n",
      "dense (Dense)                (None, 5)                 175       \n",
      "_________________________________________________________________\n",
      "dense_1 (Dense)              (None, 10)                60        \n",
      "=================================================================\n",
      "Total params: 235\n",
      "Trainable params: 235\n",
      "Non-trainable params: 0\n",
      "_________________________________________________________________\n"
     ]
    }
   ],
   "source": [
    "model.summary()"
   ]
  },
  {
   "cell_type": "code",
   "execution_count": 9,
   "metadata": {},
   "outputs": [],
   "source": [
    "model.compile(optimizer=Adam(learning_rate=0.1), loss='mean_squared_error', metrics=['mean_absolute_error'])"
   ]
  },
  {
   "cell_type": "code",
   "execution_count": 10,
   "metadata": {},
   "outputs": [
    {
     "name": "stdout",
     "output_type": "stream",
     "text": [
      "Epoch 1/100\n",
      "1/1 - 0s - loss: 0.5024 - mean_absolute_error: 0.5867 - val_loss: 0.3311 - val_mean_absolute_error: 0.4723\n",
      "Epoch 2/100\n",
      "1/1 - 0s - loss: 0.3279 - mean_absolute_error: 0.4728 - val_loss: 0.3198 - val_mean_absolute_error: 0.4447\n",
      "Epoch 3/100\n",
      "1/1 - 0s - loss: 0.2990 - mean_absolute_error: 0.4395 - val_loss: 0.2423 - val_mean_absolute_error: 0.3913\n",
      "Epoch 4/100\n",
      "1/1 - 0s - loss: 0.2114 - mean_absolute_error: 0.3610 - val_loss: 0.1632 - val_mean_absolute_error: 0.3240\n",
      "Epoch 5/100\n",
      "1/1 - 0s - loss: 0.1374 - mean_absolute_error: 0.2817 - val_loss: 0.1541 - val_mean_absolute_error: 0.3340\n",
      "Epoch 6/100\n",
      "1/1 - 0s - loss: 0.1379 - mean_absolute_error: 0.2938 - val_loss: 0.1527 - val_mean_absolute_error: 0.3170\n",
      "Epoch 7/100\n",
      "1/1 - 0s - loss: 0.1442 - mean_absolute_error: 0.2898 - val_loss: 0.1392 - val_mean_absolute_error: 0.3016\n",
      "Epoch 8/100\n",
      "1/1 - 0s - loss: 0.1264 - mean_absolute_error: 0.2698 - val_loss: 0.1244 - val_mean_absolute_error: 0.2940\n",
      "Epoch 9/100\n",
      "1/1 - 0s - loss: 0.1028 - mean_absolute_error: 0.2544 - val_loss: 0.1157 - val_mean_absolute_error: 0.2816\n",
      "Epoch 10/100\n",
      "1/1 - 0s - loss: 0.0845 - mean_absolute_error: 0.2313 - val_loss: 0.1243 - val_mean_absolute_error: 0.2794\n",
      "Epoch 11/100\n",
      "1/1 - 0s - loss: 0.0808 - mean_absolute_error: 0.2180 - val_loss: 0.1330 - val_mean_absolute_error: 0.2918\n",
      "Epoch 12/100\n",
      "1/1 - 0s - loss: 0.0837 - mean_absolute_error: 0.2182 - val_loss: 0.1305 - val_mean_absolute_error: 0.2954\n",
      "Epoch 13/100\n",
      "1/1 - 0s - loss: 0.0841 - mean_absolute_error: 0.2210 - val_loss: 0.1168 - val_mean_absolute_error: 0.2785\n",
      "Epoch 14/100\n",
      "1/1 - 0s - loss: 0.0816 - mean_absolute_error: 0.2249 - val_loss: 0.0981 - val_mean_absolute_error: 0.2586\n",
      "Epoch 15/100\n",
      "1/1 - 0s - loss: 0.0698 - mean_absolute_error: 0.2126 - val_loss: 0.0891 - val_mean_absolute_error: 0.2447\n",
      "Epoch 16/100\n",
      "1/1 - 0s - loss: 0.0600 - mean_absolute_error: 0.1933 - val_loss: 0.0891 - val_mean_absolute_error: 0.2514\n",
      "Epoch 17/100\n",
      "1/1 - 0s - loss: 0.0563 - mean_absolute_error: 0.1883 - val_loss: 0.0898 - val_mean_absolute_error: 0.2534\n",
      "Epoch 18/100\n",
      "1/1 - 0s - loss: 0.0516 - mean_absolute_error: 0.1823 - val_loss: 0.0939 - val_mean_absolute_error: 0.2535\n",
      "Epoch 19/100\n",
      "1/1 - 0s - loss: 0.0506 - mean_absolute_error: 0.1812 - val_loss: 0.0938 - val_mean_absolute_error: 0.2527\n",
      "Epoch 20/100\n",
      "1/1 - 0s - loss: 0.0504 - mean_absolute_error: 0.1822 - val_loss: 0.0802 - val_mean_absolute_error: 0.2350\n",
      "Epoch 21/100\n",
      "1/1 - 0s - loss: 0.0455 - mean_absolute_error: 0.1737 - val_loss: 0.0639 - val_mean_absolute_error: 0.2080\n",
      "Epoch 22/100\n",
      "1/1 - 0s - loss: 0.0403 - mean_absolute_error: 0.1650 - val_loss: 0.0568 - val_mean_absolute_error: 0.1923\n",
      "Epoch 23/100\n",
      "1/1 - 0s - loss: 0.0397 - mean_absolute_error: 0.1648 - val_loss: 0.0555 - val_mean_absolute_error: 0.1949\n",
      "Epoch 24/100\n",
      "1/1 - 0s - loss: 0.0401 - mean_absolute_error: 0.1630 - val_loss: 0.0541 - val_mean_absolute_error: 0.1921\n",
      "Epoch 25/100\n",
      "1/1 - 0s - loss: 0.0377 - mean_absolute_error: 0.1576 - val_loss: 0.0557 - val_mean_absolute_error: 0.1941\n",
      "Epoch 26/100\n",
      "1/1 - 0s - loss: 0.0364 - mean_absolute_error: 0.1546 - val_loss: 0.0579 - val_mean_absolute_error: 0.1931\n",
      "Epoch 27/100\n",
      "1/1 - 0s - loss: 0.0358 - mean_absolute_error: 0.1524 - val_loss: 0.0545 - val_mean_absolute_error: 0.1863\n",
      "Epoch 28/100\n",
      "1/1 - 0s - loss: 0.0334 - mean_absolute_error: 0.1482 - val_loss: 0.0507 - val_mean_absolute_error: 0.1836\n",
      "Epoch 29/100\n",
      "1/1 - 0s - loss: 0.0322 - mean_absolute_error: 0.1439 - val_loss: 0.0450 - val_mean_absolute_error: 0.1764\n",
      "Epoch 30/100\n",
      "1/1 - 0s - loss: 0.0302 - mean_absolute_error: 0.1391 - val_loss: 0.0385 - val_mean_absolute_error: 0.1632\n",
      "Epoch 31/100\n",
      "1/1 - 0s - loss: 0.0273 - mean_absolute_error: 0.1323 - val_loss: 0.0358 - val_mean_absolute_error: 0.1545\n",
      "Epoch 32/100\n",
      "1/1 - 0s - loss: 0.0258 - mean_absolute_error: 0.1288 - val_loss: 0.0358 - val_mean_absolute_error: 0.1533\n",
      "Epoch 33/100\n",
      "1/1 - 0s - loss: 0.0254 - mean_absolute_error: 0.1265 - val_loss: 0.0382 - val_mean_absolute_error: 0.1551\n",
      "Epoch 34/100\n",
      "1/1 - 0s - loss: 0.0266 - mean_absolute_error: 0.1300 - val_loss: 0.0373 - val_mean_absolute_error: 0.1520\n",
      "Epoch 35/100\n",
      "1/1 - 0s - loss: 0.0262 - mean_absolute_error: 0.1311 - val_loss: 0.0354 - val_mean_absolute_error: 0.1443\n",
      "Epoch 36/100\n",
      "1/1 - 0s - loss: 0.0252 - mean_absolute_error: 0.1288 - val_loss: 0.0346 - val_mean_absolute_error: 0.1389\n",
      "Epoch 37/100\n",
      "1/1 - 0s - loss: 0.0243 - mean_absolute_error: 0.1251 - val_loss: 0.0337 - val_mean_absolute_error: 0.1397\n",
      "Epoch 38/100\n",
      "1/1 - 0s - loss: 0.0231 - mean_absolute_error: 0.1226 - val_loss: 0.0329 - val_mean_absolute_error: 0.1417\n",
      "Epoch 39/100\n",
      "1/1 - 0s - loss: 0.0228 - mean_absolute_error: 0.1224 - val_loss: 0.0324 - val_mean_absolute_error: 0.1409\n",
      "Epoch 40/100\n",
      "1/1 - 0s - loss: 0.0230 - mean_absolute_error: 0.1220 - val_loss: 0.0321 - val_mean_absolute_error: 0.1388\n",
      "Epoch 41/100\n",
      "1/1 - 0s - loss: 0.0222 - mean_absolute_error: 0.1196 - val_loss: 0.0320 - val_mean_absolute_error: 0.1371\n",
      "Epoch 42/100\n",
      "1/1 - 0s - loss: 0.0210 - mean_absolute_error: 0.1167 - val_loss: 0.0314 - val_mean_absolute_error: 0.1334\n",
      "Epoch 43/100\n",
      "1/1 - 0s - loss: 0.0201 - mean_absolute_error: 0.1139 - val_loss: 0.0313 - val_mean_absolute_error: 0.1318\n",
      "Epoch 44/100\n",
      "1/1 - 0s - loss: 0.0196 - mean_absolute_error: 0.1123 - val_loss: 0.0321 - val_mean_absolute_error: 0.1332\n",
      "Epoch 45/100\n",
      "1/1 - 0s - loss: 0.0189 - mean_absolute_error: 0.1104 - val_loss: 0.0334 - val_mean_absolute_error: 0.1373\n",
      "Epoch 46/100\n",
      "1/1 - 0s - loss: 0.0186 - mean_absolute_error: 0.1088 - val_loss: 0.0342 - val_mean_absolute_error: 0.1390\n",
      "Epoch 47/100\n",
      "1/1 - 0s - loss: 0.0180 - mean_absolute_error: 0.1073 - val_loss: 0.0350 - val_mean_absolute_error: 0.1385\n",
      "Epoch 48/100\n",
      "1/1 - 0s - loss: 0.0175 - mean_absolute_error: 0.1065 - val_loss: 0.0361 - val_mean_absolute_error: 0.1413\n",
      "Epoch 49/100\n",
      "1/1 - 0s - loss: 0.0172 - mean_absolute_error: 0.1058 - val_loss: 0.0365 - val_mean_absolute_error: 0.1437\n",
      "Epoch 50/100\n",
      "1/1 - 0s - loss: 0.0166 - mean_absolute_error: 0.1034 - val_loss: 0.0361 - val_mean_absolute_error: 0.1438\n",
      "Epoch 51/100\n",
      "1/1 - 0s - loss: 0.0161 - mean_absolute_error: 0.1006 - val_loss: 0.0362 - val_mean_absolute_error: 0.1462\n",
      "Epoch 52/100\n",
      "1/1 - 0s - loss: 0.0158 - mean_absolute_error: 0.0989 - val_loss: 0.0374 - val_mean_absolute_error: 0.1501\n",
      "Epoch 53/100\n",
      "1/1 - 0s - loss: 0.0154 - mean_absolute_error: 0.0975 - val_loss: 0.0382 - val_mean_absolute_error: 0.1512\n",
      "Epoch 54/100\n",
      "1/1 - 0s - loss: 0.0149 - mean_absolute_error: 0.0957 - val_loss: 0.0373 - val_mean_absolute_error: 0.1464\n",
      "Epoch 55/100\n",
      "1/1 - 0s - loss: 0.0144 - mean_absolute_error: 0.0932 - val_loss: 0.0364 - val_mean_absolute_error: 0.1421\n",
      "Epoch 56/100\n",
      "1/1 - 0s - loss: 0.0139 - mean_absolute_error: 0.0918 - val_loss: 0.0364 - val_mean_absolute_error: 0.1429\n",
      "Epoch 57/100\n",
      "1/1 - 0s - loss: 0.0137 - mean_absolute_error: 0.0909 - val_loss: 0.0368 - val_mean_absolute_error: 0.1442\n",
      "Epoch 58/100\n",
      "1/1 - 0s - loss: 0.0135 - mean_absolute_error: 0.0900 - val_loss: 0.0364 - val_mean_absolute_error: 0.1430\n",
      "Epoch 59/100\n",
      "1/1 - 0s - loss: 0.0130 - mean_absolute_error: 0.0883 - val_loss: 0.0362 - val_mean_absolute_error: 0.1430\n",
      "Epoch 60/100\n",
      "1/1 - 0s - loss: 0.0126 - mean_absolute_error: 0.0868 - val_loss: 0.0364 - val_mean_absolute_error: 0.1455\n",
      "Epoch 61/100\n",
      "1/1 - 0s - loss: 0.0123 - mean_absolute_error: 0.0861 - val_loss: 0.0365 - val_mean_absolute_error: 0.1470\n",
      "Epoch 62/100\n",
      "1/1 - 0s - loss: 0.0120 - mean_absolute_error: 0.0856 - val_loss: 0.0364 - val_mean_absolute_error: 0.1461\n",
      "Epoch 63/100\n",
      "1/1 - 0s - loss: 0.0117 - mean_absolute_error: 0.0849 - val_loss: 0.0367 - val_mean_absolute_error: 0.1461\n",
      "Epoch 64/100\n",
      "1/1 - 0s - loss: 0.0114 - mean_absolute_error: 0.0843 - val_loss: 0.0372 - val_mean_absolute_error: 0.1480\n",
      "Epoch 65/100\n",
      "1/1 - 0s - loss: 0.0112 - mean_absolute_error: 0.0840 - val_loss: 0.0372 - val_mean_absolute_error: 0.1484\n",
      "Epoch 66/100\n",
      "1/1 - 0s - loss: 0.0110 - mean_absolute_error: 0.0836 - val_loss: 0.0364 - val_mean_absolute_error: 0.1466\n",
      "Epoch 67/100\n",
      "1/1 - 0s - loss: 0.0107 - mean_absolute_error: 0.0821 - val_loss: 0.0359 - val_mean_absolute_error: 0.1453\n",
      "Epoch 68/100\n",
      "1/1 - 0s - loss: 0.0105 - mean_absolute_error: 0.0807 - val_loss: 0.0361 - val_mean_absolute_error: 0.1449\n",
      "Epoch 69/100\n",
      "1/1 - 0s - loss: 0.0104 - mean_absolute_error: 0.0797 - val_loss: 0.0365 - val_mean_absolute_error: 0.1445\n"
     ]
    },
    {
     "name": "stdout",
     "output_type": "stream",
     "text": [
      "Epoch 70/100\n",
      "1/1 - 0s - loss: 0.0102 - mean_absolute_error: 0.0794 - val_loss: 0.0368 - val_mean_absolute_error: 0.1440\n",
      "Epoch 71/100\n",
      "1/1 - 0s - loss: 0.0100 - mean_absolute_error: 0.0792 - val_loss: 0.0365 - val_mean_absolute_error: 0.1435\n",
      "Epoch 72/100\n",
      "1/1 - 0s - loss: 0.0098 - mean_absolute_error: 0.0783 - val_loss: 0.0363 - val_mean_absolute_error: 0.1427\n",
      "Epoch 73/100\n",
      "1/1 - 0s - loss: 0.0097 - mean_absolute_error: 0.0772 - val_loss: 0.0365 - val_mean_absolute_error: 0.1423\n",
      "Epoch 74/100\n",
      "1/1 - 0s - loss: 0.0096 - mean_absolute_error: 0.0765 - val_loss: 0.0375 - val_mean_absolute_error: 0.1433\n",
      "Epoch 75/100\n",
      "1/1 - 0s - loss: 0.0094 - mean_absolute_error: 0.0758 - val_loss: 0.0384 - val_mean_absolute_error: 0.1447\n",
      "Epoch 76/100\n",
      "1/1 - 0s - loss: 0.0093 - mean_absolute_error: 0.0750 - val_loss: 0.0386 - val_mean_absolute_error: 0.1444\n",
      "Epoch 77/100\n",
      "1/1 - 0s - loss: 0.0092 - mean_absolute_error: 0.0742 - val_loss: 0.0386 - val_mean_absolute_error: 0.1437\n",
      "Epoch 78/100\n",
      "1/1 - 0s - loss: 0.0091 - mean_absolute_error: 0.0738 - val_loss: 0.0388 - val_mean_absolute_error: 0.1442\n",
      "Epoch 79/100\n",
      "1/1 - 0s - loss: 0.0091 - mean_absolute_error: 0.0736 - val_loss: 0.0392 - val_mean_absolute_error: 0.1447\n",
      "Epoch 80/100\n",
      "1/1 - 0s - loss: 0.0090 - mean_absolute_error: 0.0734 - val_loss: 0.0394 - val_mean_absolute_error: 0.1449\n",
      "Epoch 81/100\n",
      "1/1 - 0s - loss: 0.0089 - mean_absolute_error: 0.0730 - val_loss: 0.0395 - val_mean_absolute_error: 0.1453\n",
      "Epoch 82/100\n",
      "1/1 - 0s - loss: 0.0088 - mean_absolute_error: 0.0726 - val_loss: 0.0395 - val_mean_absolute_error: 0.1459\n",
      "Epoch 83/100\n",
      "1/1 - 0s - loss: 0.0088 - mean_absolute_error: 0.0722 - val_loss: 0.0397 - val_mean_absolute_error: 0.1462\n",
      "Epoch 84/100\n",
      "1/1 - 0s - loss: 0.0087 - mean_absolute_error: 0.0718 - val_loss: 0.0399 - val_mean_absolute_error: 0.1465\n",
      "Epoch 85/100\n",
      "1/1 - 0s - loss: 0.0087 - mean_absolute_error: 0.0715 - val_loss: 0.0400 - val_mean_absolute_error: 0.1468\n",
      "Epoch 86/100\n",
      "1/1 - 0s - loss: 0.0086 - mean_absolute_error: 0.0714 - val_loss: 0.0398 - val_mean_absolute_error: 0.1467\n",
      "Epoch 87/100\n",
      "1/1 - 0s - loss: 0.0086 - mean_absolute_error: 0.0714 - val_loss: 0.0394 - val_mean_absolute_error: 0.1463\n",
      "Epoch 88/100\n",
      "1/1 - 0s - loss: 0.0085 - mean_absolute_error: 0.0713 - val_loss: 0.0393 - val_mean_absolute_error: 0.1463\n",
      "Epoch 89/100\n",
      "1/1 - 0s - loss: 0.0085 - mean_absolute_error: 0.0711 - val_loss: 0.0396 - val_mean_absolute_error: 0.1467\n",
      "Epoch 90/100\n",
      "1/1 - 0s - loss: 0.0085 - mean_absolute_error: 0.0710 - val_loss: 0.0396 - val_mean_absolute_error: 0.1467\n",
      "Epoch 91/100\n",
      "1/1 - 0s - loss: 0.0084 - mean_absolute_error: 0.0709 - val_loss: 0.0393 - val_mean_absolute_error: 0.1459\n",
      "Epoch 92/100\n",
      "1/1 - 0s - loss: 0.0084 - mean_absolute_error: 0.0708 - val_loss: 0.0391 - val_mean_absolute_error: 0.1451\n",
      "Epoch 93/100\n",
      "1/1 - 0s - loss: 0.0083 - mean_absolute_error: 0.0707 - val_loss: 0.0398 - val_mean_absolute_error: 0.1455\n",
      "Epoch 94/100\n",
      "1/1 - 0s - loss: 0.0083 - mean_absolute_error: 0.0698 - val_loss: 0.0408 - val_mean_absolute_error: 0.1470\n",
      "Epoch 95/100\n",
      "1/1 - 0s - loss: 0.0082 - mean_absolute_error: 0.0692 - val_loss: 0.0413 - val_mean_absolute_error: 0.1478\n",
      "Epoch 96/100\n",
      "1/1 - 0s - loss: 0.0082 - mean_absolute_error: 0.0688 - val_loss: 0.0407 - val_mean_absolute_error: 0.1466\n",
      "Epoch 97/100\n",
      "1/1 - 0s - loss: 0.0081 - mean_absolute_error: 0.0683 - val_loss: 0.0396 - val_mean_absolute_error: 0.1448\n",
      "Epoch 98/100\n",
      "1/1 - 0s - loss: 0.0080 - mean_absolute_error: 0.0683 - val_loss: 0.0390 - val_mean_absolute_error: 0.1439\n",
      "Epoch 99/100\n",
      "1/1 - 0s - loss: 0.0080 - mean_absolute_error: 0.0684 - val_loss: 0.0392 - val_mean_absolute_error: 0.1443\n",
      "Epoch 100/100\n",
      "1/1 - 0s - loss: 0.0080 - mean_absolute_error: 0.0683 - val_loss: 0.0402 - val_mean_absolute_error: 0.1457\n"
     ]
    }
   ],
   "source": [
    "result = model.fit(x=train_samples, y=train_labels, validation_split=0.2, batch_size=50, epochs=100, shuffle=True, verbose=2)"
   ]
  },
  {
   "cell_type": "markdown",
   "metadata": {},
   "source": [
    "### Gráfico do erro ao longo das épocas"
   ]
  },
  {
   "cell_type": "code",
   "execution_count": 11,
   "metadata": {
    "scrolled": true
   },
   "outputs": [
    {
     "data": {
      "text/plain": [
       "<matplotlib.legend.Legend at 0x7fabf406d7c0>"
      ]
     },
     "execution_count": 11,
     "metadata": {},
     "output_type": "execute_result"
    },
    {
     "data": {
      "image/png": "[encoded data removed]",
      "text/plain": [
       "<Figure size 432x288 with 1 Axes>"
      ]
     },
     "metadata": {
      "needs_background": "light"
     },
     "output_type": "display_data"
    }
   ],
   "source": [
    "from matplotlib import pyplot as plt\n",
    "\n",
    "plt.plot(result.history['loss'], label='loss')\n",
    "plt.plot(result.history['val_loss'], label='val_loss')\n",
    "plt.legend()"
   ]
  }
 ],
 "metadata": {
  "kernelspec": {
   "display_name": "Python 3",
   "language": "python",
   "name": "python3"
  },
  "language_info": {
   "codemirror_mode": {
    "name": "ipython",
    "version": 3
   },
   "file_extension": ".py",
   "mimetype": "text/x-python",
   "name": "python",
   "nbconvert_exporter": "python",
   "pygments_lexer": "ipython3",
   "version": "3.8.3"
  }
 },
 "nbformat": 4,
 "nbformat_minor": 4
}
